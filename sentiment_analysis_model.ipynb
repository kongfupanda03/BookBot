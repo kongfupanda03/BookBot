{
  "nbformat": 4,
  "nbformat_minor": 0,
  "metadata": {
    "colab": {
      "name": "sentiment_analysis_model.ipynb",
      "provenance": [],
      "collapsed_sections": []
    },
    "kernelspec": {
      "name": "python3",
      "display_name": "Python 3"
    },
    "accelerator": "GPU",
    "widgets": {
      "application/vnd.jupyter.widget-state+json": {
        "8f7a0ab836d24ddcb26f9f7b227126b7": {
          "model_module": "@jupyter-widgets/controls",
          "model_name": "HBoxModel",
          "state": {
            "_view_name": "HBoxView",
            "_dom_classes": [],
            "_model_name": "HBoxModel",
            "_view_module": "@jupyter-widgets/controls",
            "_model_module_version": "1.5.0",
            "_view_count": null,
            "_view_module_version": "1.5.0",
            "box_style": "",
            "layout": "IPY_MODEL_9217a4e18b16419da379abbaf6f7f363",
            "_model_module": "@jupyter-widgets/controls",
            "children": [
              "IPY_MODEL_56eb48eeca454719b066977de00f9870",
              "IPY_MODEL_6023dc38281b4b8d9ef5d8338b3a85f6"
            ]
          }
        },
        "9217a4e18b16419da379abbaf6f7f363": {
          "model_module": "@jupyter-widgets/base",
          "model_name": "LayoutModel",
          "state": {
            "_view_name": "LayoutView",
            "grid_template_rows": null,
            "right": null,
            "justify_content": null,
            "_view_module": "@jupyter-widgets/base",
            "overflow": null,
            "_model_module_version": "1.2.0",
            "_view_count": null,
            "flex_flow": null,
            "width": null,
            "min_width": null,
            "border": null,
            "align_items": null,
            "bottom": null,
            "_model_module": "@jupyter-widgets/base",
            "top": null,
            "grid_column": null,
            "overflow_y": null,
            "overflow_x": null,
            "grid_auto_flow": null,
            "grid_area": null,
            "grid_template_columns": null,
            "flex": null,
            "_model_name": "LayoutModel",
            "justify_items": null,
            "grid_row": null,
            "max_height": null,
            "align_content": null,
            "visibility": null,
            "align_self": null,
            "height": null,
            "min_height": null,
            "padding": null,
            "grid_auto_rows": null,
            "grid_gap": null,
            "max_width": null,
            "order": null,
            "_view_module_version": "1.2.0",
            "grid_template_areas": null,
            "object_position": null,
            "object_fit": null,
            "grid_auto_columns": null,
            "margin": null,
            "display": null,
            "left": null
          }
        },
        "56eb48eeca454719b066977de00f9870": {
          "model_module": "@jupyter-widgets/controls",
          "model_name": "FloatProgressModel",
          "state": {
            "_view_name": "ProgressView",
            "style": "IPY_MODEL_ee928547c921400c840c8f8c1ee93dd0",
            "_dom_classes": [],
            "description": "Downloading: 100%",
            "_model_name": "FloatProgressModel",
            "bar_style": "success",
            "max": 231508,
            "_view_module": "@jupyter-widgets/controls",
            "_model_module_version": "1.5.0",
            "value": 231508,
            "_view_count": null,
            "_view_module_version": "1.5.0",
            "orientation": "horizontal",
            "min": 0,
            "description_tooltip": null,
            "_model_module": "@jupyter-widgets/controls",
            "layout": "IPY_MODEL_be902f76a37b492b98612ef5292cdea1"
          }
        },
        "6023dc38281b4b8d9ef5d8338b3a85f6": {
          "model_module": "@jupyter-widgets/controls",
          "model_name": "HTMLModel",
          "state": {
            "_view_name": "HTMLView",
            "style": "IPY_MODEL_65abdbf614604282bf30cce73ebac625",
            "_dom_classes": [],
            "description": "",
            "_model_name": "HTMLModel",
            "placeholder": "​",
            "_view_module": "@jupyter-widgets/controls",
            "_model_module_version": "1.5.0",
            "value": " 232k/232k [00:00&lt;00:00, 2.97MB/s]",
            "_view_count": null,
            "_view_module_version": "1.5.0",
            "description_tooltip": null,
            "_model_module": "@jupyter-widgets/controls",
            "layout": "IPY_MODEL_b4a4a44f23364dff8fe79e5ea62eda0f"
          }
        },
        "ee928547c921400c840c8f8c1ee93dd0": {
          "model_module": "@jupyter-widgets/controls",
          "model_name": "ProgressStyleModel",
          "state": {
            "_view_name": "StyleView",
            "_model_name": "ProgressStyleModel",
            "description_width": "initial",
            "_view_module": "@jupyter-widgets/base",
            "_model_module_version": "1.5.0",
            "_view_count": null,
            "_view_module_version": "1.2.0",
            "bar_color": null,
            "_model_module": "@jupyter-widgets/controls"
          }
        },
        "be902f76a37b492b98612ef5292cdea1": {
          "model_module": "@jupyter-widgets/base",
          "model_name": "LayoutModel",
          "state": {
            "_view_name": "LayoutView",
            "grid_template_rows": null,
            "right": null,
            "justify_content": null,
            "_view_module": "@jupyter-widgets/base",
            "overflow": null,
            "_model_module_version": "1.2.0",
            "_view_count": null,
            "flex_flow": null,
            "width": null,
            "min_width": null,
            "border": null,
            "align_items": null,
            "bottom": null,
            "_model_module": "@jupyter-widgets/base",
            "top": null,
            "grid_column": null,
            "overflow_y": null,
            "overflow_x": null,
            "grid_auto_flow": null,
            "grid_area": null,
            "grid_template_columns": null,
            "flex": null,
            "_model_name": "LayoutModel",
            "justify_items": null,
            "grid_row": null,
            "max_height": null,
            "align_content": null,
            "visibility": null,
            "align_self": null,
            "height": null,
            "min_height": null,
            "padding": null,
            "grid_auto_rows": null,
            "grid_gap": null,
            "max_width": null,
            "order": null,
            "_view_module_version": "1.2.0",
            "grid_template_areas": null,
            "object_position": null,
            "object_fit": null,
            "grid_auto_columns": null,
            "margin": null,
            "display": null,
            "left": null
          }
        },
        "65abdbf614604282bf30cce73ebac625": {
          "model_module": "@jupyter-widgets/controls",
          "model_name": "DescriptionStyleModel",
          "state": {
            "_view_name": "StyleView",
            "_model_name": "DescriptionStyleModel",
            "description_width": "",
            "_view_module": "@jupyter-widgets/base",
            "_model_module_version": "1.5.0",
            "_view_count": null,
            "_view_module_version": "1.2.0",
            "_model_module": "@jupyter-widgets/controls"
          }
        },
        "b4a4a44f23364dff8fe79e5ea62eda0f": {
          "model_module": "@jupyter-widgets/base",
          "model_name": "LayoutModel",
          "state": {
            "_view_name": "LayoutView",
            "grid_template_rows": null,
            "right": null,
            "justify_content": null,
            "_view_module": "@jupyter-widgets/base",
            "overflow": null,
            "_model_module_version": "1.2.0",
            "_view_count": null,
            "flex_flow": null,
            "width": null,
            "min_width": null,
            "border": null,
            "align_items": null,
            "bottom": null,
            "_model_module": "@jupyter-widgets/base",
            "top": null,
            "grid_column": null,
            "overflow_y": null,
            "overflow_x": null,
            "grid_auto_flow": null,
            "grid_area": null,
            "grid_template_columns": null,
            "flex": null,
            "_model_name": "LayoutModel",
            "justify_items": null,
            "grid_row": null,
            "max_height": null,
            "align_content": null,
            "visibility": null,
            "align_self": null,
            "height": null,
            "min_height": null,
            "padding": null,
            "grid_auto_rows": null,
            "grid_gap": null,
            "max_width": null,
            "order": null,
            "_view_module_version": "1.2.0",
            "grid_template_areas": null,
            "object_position": null,
            "object_fit": null,
            "grid_auto_columns": null,
            "margin": null,
            "display": null,
            "left": null
          }
        },
        "abce9380b2a444fbafa817cde280d6c1": {
          "model_module": "@jupyter-widgets/controls",
          "model_name": "HBoxModel",
          "state": {
            "_view_name": "HBoxView",
            "_dom_classes": [],
            "_model_name": "HBoxModel",
            "_view_module": "@jupyter-widgets/controls",
            "_model_module_version": "1.5.0",
            "_view_count": null,
            "_view_module_version": "1.5.0",
            "box_style": "",
            "layout": "IPY_MODEL_9053e988cedf42e4b5d132a8b861706e",
            "_model_module": "@jupyter-widgets/controls",
            "children": [
              "IPY_MODEL_e7707d9c24cc4fcc964b24ac3802abba",
              "IPY_MODEL_d536ae8e0fa6472aab7dff489ca73572"
            ]
          }
        },
        "9053e988cedf42e4b5d132a8b861706e": {
          "model_module": "@jupyter-widgets/base",
          "model_name": "LayoutModel",
          "state": {
            "_view_name": "LayoutView",
            "grid_template_rows": null,
            "right": null,
            "justify_content": null,
            "_view_module": "@jupyter-widgets/base",
            "overflow": null,
            "_model_module_version": "1.2.0",
            "_view_count": null,
            "flex_flow": null,
            "width": null,
            "min_width": null,
            "border": null,
            "align_items": null,
            "bottom": null,
            "_model_module": "@jupyter-widgets/base",
            "top": null,
            "grid_column": null,
            "overflow_y": null,
            "overflow_x": null,
            "grid_auto_flow": null,
            "grid_area": null,
            "grid_template_columns": null,
            "flex": null,
            "_model_name": "LayoutModel",
            "justify_items": null,
            "grid_row": null,
            "max_height": null,
            "align_content": null,
            "visibility": null,
            "align_self": null,
            "height": null,
            "min_height": null,
            "padding": null,
            "grid_auto_rows": null,
            "grid_gap": null,
            "max_width": null,
            "order": null,
            "_view_module_version": "1.2.0",
            "grid_template_areas": null,
            "object_position": null,
            "object_fit": null,
            "grid_auto_columns": null,
            "margin": null,
            "display": null,
            "left": null
          }
        },
        "e7707d9c24cc4fcc964b24ac3802abba": {
          "model_module": "@jupyter-widgets/controls",
          "model_name": "FloatProgressModel",
          "state": {
            "_view_name": "ProgressView",
            "style": "IPY_MODEL_a0b651ae5a754b549074e71ead263ee4",
            "_dom_classes": [],
            "description": "Downloading: 100%",
            "_model_name": "FloatProgressModel",
            "bar_style": "success",
            "max": 433,
            "_view_module": "@jupyter-widgets/controls",
            "_model_module_version": "1.5.0",
            "value": 433,
            "_view_count": null,
            "_view_module_version": "1.5.0",
            "orientation": "horizontal",
            "min": 0,
            "description_tooltip": null,
            "_model_module": "@jupyter-widgets/controls",
            "layout": "IPY_MODEL_fb26e69f3843460785564a005257e94c"
          }
        },
        "d536ae8e0fa6472aab7dff489ca73572": {
          "model_module": "@jupyter-widgets/controls",
          "model_name": "HTMLModel",
          "state": {
            "_view_name": "HTMLView",
            "style": "IPY_MODEL_181df6d40bd34ab4afb95094013de246",
            "_dom_classes": [],
            "description": "",
            "_model_name": "HTMLModel",
            "placeholder": "​",
            "_view_module": "@jupyter-widgets/controls",
            "_model_module_version": "1.5.0",
            "value": " 433/433 [00:00&lt;00:00, 2.43kB/s]",
            "_view_count": null,
            "_view_module_version": "1.5.0",
            "description_tooltip": null,
            "_model_module": "@jupyter-widgets/controls",
            "layout": "IPY_MODEL_32e6cbc9c9cf4414953892d0e5e60b8e"
          }
        },
        "a0b651ae5a754b549074e71ead263ee4": {
          "model_module": "@jupyter-widgets/controls",
          "model_name": "ProgressStyleModel",
          "state": {
            "_view_name": "StyleView",
            "_model_name": "ProgressStyleModel",
            "description_width": "initial",
            "_view_module": "@jupyter-widgets/base",
            "_model_module_version": "1.5.0",
            "_view_count": null,
            "_view_module_version": "1.2.0",
            "bar_color": null,
            "_model_module": "@jupyter-widgets/controls"
          }
        },
        "fb26e69f3843460785564a005257e94c": {
          "model_module": "@jupyter-widgets/base",
          "model_name": "LayoutModel",
          "state": {
            "_view_name": "LayoutView",
            "grid_template_rows": null,
            "right": null,
            "justify_content": null,
            "_view_module": "@jupyter-widgets/base",
            "overflow": null,
            "_model_module_version": "1.2.0",
            "_view_count": null,
            "flex_flow": null,
            "width": null,
            "min_width": null,
            "border": null,
            "align_items": null,
            "bottom": null,
            "_model_module": "@jupyter-widgets/base",
            "top": null,
            "grid_column": null,
            "overflow_y": null,
            "overflow_x": null,
            "grid_auto_flow": null,
            "grid_area": null,
            "grid_template_columns": null,
            "flex": null,
            "_model_name": "LayoutModel",
            "justify_items": null,
            "grid_row": null,
            "max_height": null,
            "align_content": null,
            "visibility": null,
            "align_self": null,
            "height": null,
            "min_height": null,
            "padding": null,
            "grid_auto_rows": null,
            "grid_gap": null,
            "max_width": null,
            "order": null,
            "_view_module_version": "1.2.0",
            "grid_template_areas": null,
            "object_position": null,
            "object_fit": null,
            "grid_auto_columns": null,
            "margin": null,
            "display": null,
            "left": null
          }
        },
        "181df6d40bd34ab4afb95094013de246": {
          "model_module": "@jupyter-widgets/controls",
          "model_name": "DescriptionStyleModel",
          "state": {
            "_view_name": "StyleView",
            "_model_name": "DescriptionStyleModel",
            "description_width": "",
            "_view_module": "@jupyter-widgets/base",
            "_model_module_version": "1.5.0",
            "_view_count": null,
            "_view_module_version": "1.2.0",
            "_model_module": "@jupyter-widgets/controls"
          }
        },
        "32e6cbc9c9cf4414953892d0e5e60b8e": {
          "model_module": "@jupyter-widgets/base",
          "model_name": "LayoutModel",
          "state": {
            "_view_name": "LayoutView",
            "grid_template_rows": null,
            "right": null,
            "justify_content": null,
            "_view_module": "@jupyter-widgets/base",
            "overflow": null,
            "_model_module_version": "1.2.0",
            "_view_count": null,
            "flex_flow": null,
            "width": null,
            "min_width": null,
            "border": null,
            "align_items": null,
            "bottom": null,
            "_model_module": "@jupyter-widgets/base",
            "top": null,
            "grid_column": null,
            "overflow_y": null,
            "overflow_x": null,
            "grid_auto_flow": null,
            "grid_area": null,
            "grid_template_columns": null,
            "flex": null,
            "_model_name": "LayoutModel",
            "justify_items": null,
            "grid_row": null,
            "max_height": null,
            "align_content": null,
            "visibility": null,
            "align_self": null,
            "height": null,
            "min_height": null,
            "padding": null,
            "grid_auto_rows": null,
            "grid_gap": null,
            "max_width": null,
            "order": null,
            "_view_module_version": "1.2.0",
            "grid_template_areas": null,
            "object_position": null,
            "object_fit": null,
            "grid_auto_columns": null,
            "margin": null,
            "display": null,
            "left": null
          }
        },
        "b9ccfde3c57842e7abc1e9a9d338b03f": {
          "model_module": "@jupyter-widgets/controls",
          "model_name": "HBoxModel",
          "state": {
            "_view_name": "HBoxView",
            "_dom_classes": [],
            "_model_name": "HBoxModel",
            "_view_module": "@jupyter-widgets/controls",
            "_model_module_version": "1.5.0",
            "_view_count": null,
            "_view_module_version": "1.5.0",
            "box_style": "",
            "layout": "IPY_MODEL_ef07aea841be48ef93117f0c7b91b14a",
            "_model_module": "@jupyter-widgets/controls",
            "children": [
              "IPY_MODEL_78ba2cd536d94d178a90d6e53493d034",
              "IPY_MODEL_e5955fd5e8d14d8db84363c94e03bec5"
            ]
          }
        },
        "ef07aea841be48ef93117f0c7b91b14a": {
          "model_module": "@jupyter-widgets/base",
          "model_name": "LayoutModel",
          "state": {
            "_view_name": "LayoutView",
            "grid_template_rows": null,
            "right": null,
            "justify_content": null,
            "_view_module": "@jupyter-widgets/base",
            "overflow": null,
            "_model_module_version": "1.2.0",
            "_view_count": null,
            "flex_flow": null,
            "width": null,
            "min_width": null,
            "border": null,
            "align_items": null,
            "bottom": null,
            "_model_module": "@jupyter-widgets/base",
            "top": null,
            "grid_column": null,
            "overflow_y": null,
            "overflow_x": null,
            "grid_auto_flow": null,
            "grid_area": null,
            "grid_template_columns": null,
            "flex": null,
            "_model_name": "LayoutModel",
            "justify_items": null,
            "grid_row": null,
            "max_height": null,
            "align_content": null,
            "visibility": null,
            "align_self": null,
            "height": null,
            "min_height": null,
            "padding": null,
            "grid_auto_rows": null,
            "grid_gap": null,
            "max_width": null,
            "order": null,
            "_view_module_version": "1.2.0",
            "grid_template_areas": null,
            "object_position": null,
            "object_fit": null,
            "grid_auto_columns": null,
            "margin": null,
            "display": null,
            "left": null
          }
        },
        "78ba2cd536d94d178a90d6e53493d034": {
          "model_module": "@jupyter-widgets/controls",
          "model_name": "FloatProgressModel",
          "state": {
            "_view_name": "ProgressView",
            "style": "IPY_MODEL_22d3c370eee243de825b627bfe135c72",
            "_dom_classes": [],
            "description": "Downloading: 100%",
            "_model_name": "FloatProgressModel",
            "bar_style": "success",
            "max": 440473133,
            "_view_module": "@jupyter-widgets/controls",
            "_model_module_version": "1.5.0",
            "value": 440473133,
            "_view_count": null,
            "_view_module_version": "1.5.0",
            "orientation": "horizontal",
            "min": 0,
            "description_tooltip": null,
            "_model_module": "@jupyter-widgets/controls",
            "layout": "IPY_MODEL_d4530aaafd854f0ab346c15ca7b36fb7"
          }
        },
        "e5955fd5e8d14d8db84363c94e03bec5": {
          "model_module": "@jupyter-widgets/controls",
          "model_name": "HTMLModel",
          "state": {
            "_view_name": "HTMLView",
            "style": "IPY_MODEL_2533beed4eff4adca8684029970dee15",
            "_dom_classes": [],
            "description": "",
            "_model_name": "HTMLModel",
            "placeholder": "​",
            "_view_module": "@jupyter-widgets/controls",
            "_model_module_version": "1.5.0",
            "value": " 440M/440M [00:11&lt;00:00, 39.3MB/s]",
            "_view_count": null,
            "_view_module_version": "1.5.0",
            "description_tooltip": null,
            "_model_module": "@jupyter-widgets/controls",
            "layout": "IPY_MODEL_9a93366eb4904c64b1d3e2cc516b05dc"
          }
        },
        "22d3c370eee243de825b627bfe135c72": {
          "model_module": "@jupyter-widgets/controls",
          "model_name": "ProgressStyleModel",
          "state": {
            "_view_name": "StyleView",
            "_model_name": "ProgressStyleModel",
            "description_width": "initial",
            "_view_module": "@jupyter-widgets/base",
            "_model_module_version": "1.5.0",
            "_view_count": null,
            "_view_module_version": "1.2.0",
            "bar_color": null,
            "_model_module": "@jupyter-widgets/controls"
          }
        },
        "d4530aaafd854f0ab346c15ca7b36fb7": {
          "model_module": "@jupyter-widgets/base",
          "model_name": "LayoutModel",
          "state": {
            "_view_name": "LayoutView",
            "grid_template_rows": null,
            "right": null,
            "justify_content": null,
            "_view_module": "@jupyter-widgets/base",
            "overflow": null,
            "_model_module_version": "1.2.0",
            "_view_count": null,
            "flex_flow": null,
            "width": null,
            "min_width": null,
            "border": null,
            "align_items": null,
            "bottom": null,
            "_model_module": "@jupyter-widgets/base",
            "top": null,
            "grid_column": null,
            "overflow_y": null,
            "overflow_x": null,
            "grid_auto_flow": null,
            "grid_area": null,
            "grid_template_columns": null,
            "flex": null,
            "_model_name": "LayoutModel",
            "justify_items": null,
            "grid_row": null,
            "max_height": null,
            "align_content": null,
            "visibility": null,
            "align_self": null,
            "height": null,
            "min_height": null,
            "padding": null,
            "grid_auto_rows": null,
            "grid_gap": null,
            "max_width": null,
            "order": null,
            "_view_module_version": "1.2.0",
            "grid_template_areas": null,
            "object_position": null,
            "object_fit": null,
            "grid_auto_columns": null,
            "margin": null,
            "display": null,
            "left": null
          }
        },
        "2533beed4eff4adca8684029970dee15": {
          "model_module": "@jupyter-widgets/controls",
          "model_name": "DescriptionStyleModel",
          "state": {
            "_view_name": "StyleView",
            "_model_name": "DescriptionStyleModel",
            "description_width": "",
            "_view_module": "@jupyter-widgets/base",
            "_model_module_version": "1.5.0",
            "_view_count": null,
            "_view_module_version": "1.2.0",
            "_model_module": "@jupyter-widgets/controls"
          }
        },
        "9a93366eb4904c64b1d3e2cc516b05dc": {
          "model_module": "@jupyter-widgets/base",
          "model_name": "LayoutModel",
          "state": {
            "_view_name": "LayoutView",
            "grid_template_rows": null,
            "right": null,
            "justify_content": null,
            "_view_module": "@jupyter-widgets/base",
            "overflow": null,
            "_model_module_version": "1.2.0",
            "_view_count": null,
            "flex_flow": null,
            "width": null,
            "min_width": null,
            "border": null,
            "align_items": null,
            "bottom": null,
            "_model_module": "@jupyter-widgets/base",
            "top": null,
            "grid_column": null,
            "overflow_y": null,
            "overflow_x": null,
            "grid_auto_flow": null,
            "grid_area": null,
            "grid_template_columns": null,
            "flex": null,
            "_model_name": "LayoutModel",
            "justify_items": null,
            "grid_row": null,
            "max_height": null,
            "align_content": null,
            "visibility": null,
            "align_self": null,
            "height": null,
            "min_height": null,
            "padding": null,
            "grid_auto_rows": null,
            "grid_gap": null,
            "max_width": null,
            "order": null,
            "_view_module_version": "1.2.0",
            "grid_template_areas": null,
            "object_position": null,
            "object_fit": null,
            "grid_auto_columns": null,
            "margin": null,
            "display": null,
            "left": null
          }
        }
      }
    }
  },
  "cells": [
    {
      "cell_type": "code",
      "metadata": {
        "id": "VvPAG_V6GwnY",
        "outputId": "f535209e-a21b-4f50-942d-276433afbf54",
        "colab": {
          "base_uri": "https://localhost:8080/"
        }
      },
      "source": [
        "cd /content/drive/My Drive/TPML/Project"
      ],
      "execution_count": 1,
      "outputs": [
        {
          "output_type": "stream",
          "text": [
            "/content/drive/My Drive/TPML/Project\n"
          ],
          "name": "stdout"
        }
      ]
    },
    {
      "cell_type": "code",
      "metadata": {
        "id": "a1D2Irgzox9i",
        "outputId": "ac6ddf04-1bed-468d-a586-4b1047dbaaf6",
        "colab": {
          "base_uri": "https://localhost:8080/",
          "height": 238
        }
      },
      "source": [
        "ls "
      ],
      "execution_count": null,
      "outputs": [
        {
          "output_type": "stream",
          "text": [
            " 1905.05583.pdf                    meta_All_Beauty.json\n",
            " best_model_state_400_10.bin       meta_Appliances.json\n",
            " best_model_state_400.bin          meta_Luxury_Beauty.json\n",
            " best_model_state_512_lr5e-6.bin   meta_Musical_Instruments.json\n",
            " best_model_state.bin              Musical_Instruments_5.json\n",
            " data_understanding.ipynb          Musical_Instruments.csv\n",
            " GoodReads_Book_02-09-2020.csv     processed_reviews.csv\n",
            " GoodReads_Review_02-09-2020.csv   \u001b[0m\u001b[01;34mresult\u001b[0m/\n",
            " history400_10.csv                 sentiment_analysis.ipynb\n",
            " history400.csv                   'test (1).gsheet'\n",
            " history400.gsheet                 test.csv\n",
            " history400.json                   test.gsheet\n",
            " history512_lr5e-6.csv\n"
          ],
          "name": "stdout"
        }
      ]
    },
    {
      "cell_type": "code",
      "metadata": {
        "id": "GuhfQaxtsjWK",
        "outputId": "c3cc7f49-4fe0-4b8d-fd7b-4a2aeaa028d2",
        "colab": {
          "base_uri": "https://localhost:8080/"
        }
      },
      "source": [
        "pip install textblob"
      ],
      "execution_count": null,
      "outputs": [
        {
          "output_type": "stream",
          "text": [
            "Requirement already satisfied: textblob in /usr/local/lib/python3.6/dist-packages (0.15.3)\n",
            "Requirement already satisfied: nltk>=3.1 in /usr/local/lib/python3.6/dist-packages (from textblob) (3.2.5)\n",
            "Requirement already satisfied: six in /usr/local/lib/python3.6/dist-packages (from nltk>=3.1->textblob) (1.15.0)\n"
          ],
          "name": "stdout"
        }
      ]
    },
    {
      "cell_type": "code",
      "metadata": {
        "id": "t3tlKjVio7X3"
      },
      "source": [
        "import pandas as pd\n",
        "import re\n",
        "import numpy as np"
      ],
      "execution_count": 2,
      "outputs": []
    },
    {
      "cell_type": "markdown",
      "metadata": {
        "id": "qPfGEgn4GJnN"
      },
      "source": [
        "# Preprocess"
      ]
    },
    {
      "cell_type": "code",
      "metadata": {
        "id": "SkwONxoKozdl"
      },
      "source": [
        "rev = pd.read_csv('GoodReads_Review_02-09-2020.csv',dtype = str)"
      ],
      "execution_count": null,
      "outputs": []
    },
    {
      "cell_type": "code",
      "metadata": {
        "id": "4qDWPgxEo5gl",
        "outputId": "efbeb929-6f0c-4eb1-8ae9-0b883eb3b090",
        "colab": {
          "base_uri": "https://localhost:8080/",
          "height": 34
        }
      },
      "source": [
        "rev.shape"
      ],
      "execution_count": null,
      "outputs": [
        {
          "output_type": "execute_result",
          "data": {
            "text/plain": [
              "(32611, 6)"
            ]
          },
          "metadata": {
            "tags": []
          },
          "execution_count": 7
        }
      ]
    },
    {
      "cell_type": "code",
      "metadata": {
        "id": "TRzVPq9KpCGk",
        "outputId": "74915c5c-bf05-433e-b531-84c9c75a2a27",
        "colab": {
          "base_uri": "https://localhost:8080/",
          "height": 204
        }
      },
      "source": [
        "rev.head()"
      ],
      "execution_count": null,
      "outputs": [
        {
          "output_type": "execute_result",
          "data": {
            "text/html": [
              "<div>\n",
              "<style scoped>\n",
              "    .dataframe tbody tr th:only-of-type {\n",
              "        vertical-align: middle;\n",
              "    }\n",
              "\n",
              "    .dataframe tbody tr th {\n",
              "        vertical-align: top;\n",
              "    }\n",
              "\n",
              "    .dataframe thead th {\n",
              "        text-align: right;\n",
              "    }\n",
              "</style>\n",
              "<table border=\"1\" class=\"dataframe\">\n",
              "  <thead>\n",
              "    <tr style=\"text-align: right;\">\n",
              "      <th></th>\n",
              "      <th>BookID</th>\n",
              "      <th>BookTitle</th>\n",
              "      <th>ReviewerName</th>\n",
              "      <th>ReviewerComment</th>\n",
              "      <th>ReviewerRating</th>\n",
              "      <th>ReviewDate</th>\n",
              "    </tr>\n",
              "  </thead>\n",
              "  <tbody>\n",
              "    <tr>\n",
              "      <th>0</th>\n",
              "      <td>27276412</td>\n",
              "      <td>When We Meet Again by Kristin Harmel</td>\n",
              "      <td>Jennifer ~ TarHeelReader</td>\n",
              "      <td>My first book by Kristin Harmel was charming, ...</td>\n",
              "      <td>4</td>\n",
              "      <td>15-Apr-17</td>\n",
              "    </tr>\n",
              "    <tr>\n",
              "      <th>1</th>\n",
              "      <td>27276412</td>\n",
              "      <td>When We Meet Again by Kristin Harmel</td>\n",
              "      <td>Melissa</td>\n",
              "      <td>After reading some of Kristin Harmel's previou...</td>\n",
              "      <td>5</td>\n",
              "      <td>22-May-16</td>\n",
              "    </tr>\n",
              "    <tr>\n",
              "      <th>2</th>\n",
              "      <td>27276412</td>\n",
              "      <td>When We Meet Again by Kristin Harmel</td>\n",
              "      <td>Kelli</td>\n",
              "      <td>I really don't know where to begin and I am no...</td>\n",
              "      <td>4</td>\n",
              "      <td>8-May-16</td>\n",
              "    </tr>\n",
              "    <tr>\n",
              "      <th>3</th>\n",
              "      <td>27276412</td>\n",
              "      <td>When We Meet Again by Kristin Harmel</td>\n",
              "      <td>Jan Rice</td>\n",
              "      <td>This book hooked me, and I read it all the way...</td>\n",
              "      <td>3</td>\n",
              "      <td>24-Jun-19</td>\n",
              "    </tr>\n",
              "    <tr>\n",
              "      <th>4</th>\n",
              "      <td>27276412</td>\n",
              "      <td>When We Meet Again by Kristin Harmel</td>\n",
              "      <td>Rachael Burrows</td>\n",
              "      <td>I am an official reviewer for NetGalley. With ...</td>\n",
              "      <td>5</td>\n",
              "      <td>15-Mar-16</td>\n",
              "    </tr>\n",
              "  </tbody>\n",
              "</table>\n",
              "</div>"
            ],
            "text/plain": [
              "     BookID                             BookTitle  ... ReviewerRating ReviewDate\n",
              "0  27276412  When We Meet Again by Kristin Harmel  ...              4  15-Apr-17\n",
              "1  27276412  When We Meet Again by Kristin Harmel  ...              5  22-May-16\n",
              "2  27276412  When We Meet Again by Kristin Harmel  ...              4   8-May-16\n",
              "3  27276412  When We Meet Again by Kristin Harmel  ...              3  24-Jun-19\n",
              "4  27276412  When We Meet Again by Kristin Harmel  ...              5  15-Mar-16\n",
              "\n",
              "[5 rows x 6 columns]"
            ]
          },
          "metadata": {
            "tags": []
          },
          "execution_count": 4
        }
      ]
    },
    {
      "cell_type": "code",
      "metadata": {
        "id": "J5V4xXg8pDm0",
        "outputId": "9e639fdc-091c-47cb-c247-f0b80891bd06",
        "colab": {
          "base_uri": "https://localhost:8080/",
          "height": 119
        }
      },
      "source": [
        "rev.ReviewerRating.value_counts()"
      ],
      "execution_count": null,
      "outputs": [
        {
          "output_type": "execute_result",
          "data": {
            "text/plain": [
              "5    13315\n",
              "4    10984\n",
              "3     4797\n",
              "2     2302\n",
              "1     1213\n",
              "Name: ReviewerRating, dtype: int64"
            ]
          },
          "metadata": {
            "tags": []
          },
          "execution_count": 6
        }
      ]
    },
    {
      "cell_type": "code",
      "metadata": {
        "id": "OMGDzHlCqNiJ",
        "outputId": "a48f9b28-2d93-445a-9221-e1e1d68f4afc",
        "colab": {
          "base_uri": "https://localhost:8080/",
          "height": 221
        }
      },
      "source": [
        "rev.loc[rev.ReviewerRating=='2','ReviewerComment']"
      ],
      "execution_count": null,
      "outputs": [
        {
          "output_type": "execute_result",
          "data": {
            "text/plain": [
              "7        I was very interested in the premise of this b...\n",
              "16       The story is not very convincing and rather pr...\n",
              "20       2.5 StarsVery mixed feelings about this one. I...\n",
              "39       There’s an important story here (at least in t...\n",
              "43       I found The Great Believers really dry and bor...\n",
              "                               ...                        \n",
              "32571    This book is very difficult to rate. There wer...\n",
              "32577    I first learned about Alex Honnold, the guy wh...\n",
              "32579    While certainly an interesting account of clim...\n",
              "32581    So this is a book about a young man who climbs...\n",
              "32607    Yet another disappointing historical read (tha...\n",
              "Name: ReviewerComment, Length: 2302, dtype: object"
            ]
          },
          "metadata": {
            "tags": []
          },
          "execution_count": 14
        }
      ]
    },
    {
      "cell_type": "markdown",
      "metadata": {
        "id": "4ujoOVrY3XHh"
      },
      "source": [
        "Some thoughts:\n",
        "1. 0-3 neg; 4-5 pos for a relatively balanced data\n",
        "2. 0-2 neg; 3 neutral, 4-5 pos; ref: https://medium.com/life-at-hopper/conducting-sentiment-analysis-on-app-reviews-to-inform-product-decisions-64fcc71822ed#:~:text=If%20we%20assume%20that%20the,overall%20sentiment%20%E2%80%94%20the%20star%20rating.\n",
        "\n",
        "  Maybe try a rough eval with nltk;\n",
        "\n",
        "  when doing recommendation, how to handle neutral?\n",
        "\n",
        "3. drop 3; only train on extreme opinions\n",
        "\n",
        "Other refs:\n",
        "https://bookriot.com/truth-three-star-review-not-bad-review/\n",
        "\n",
        "https://medium.com/southpigalle/how-to-perform-better-sentiment-analysis-with-bert-ba127081eda"
      ]
    },
    {
      "cell_type": "code",
      "metadata": {
        "id": "gYawx_XQqWFp"
      },
      "source": [
        "sub_rev = rev.loc[:,['ReviewerComment','ReviewerRating']]"
      ],
      "execution_count": null,
      "outputs": []
    },
    {
      "cell_type": "code",
      "metadata": {
        "id": "mBCVWLqXsWEj",
        "outputId": "084e6e29-a2a1-4603-c883-8f85776c691d",
        "colab": {
          "base_uri": "https://localhost:8080/",
          "height": 205
        }
      },
      "source": [
        "sub_rev.ReviewerComment[1]"
      ],
      "execution_count": null,
      "outputs": [
        {
          "output_type": "execute_result",
          "data": {
            "application/vnd.google.colaboratory.intrinsic+json": {
              "type": "string"
            },
            "text/plain": [
              "'After reading some of Kristin Harmel\\'s previous novels and loving them, I knew I had to get my hands on this one too. Kristin has proven herself once again to be a skilled storyteller. When We Meet Again reminded me of The Sweetness of Forgetting, but there are some differences, as well. Both are about women who are in a rut in their own lives, searching for answers about their grandparents\\' lives. The historical aspects of both stories was around World War II. While \"Sweetness\" started in France, this story started in Germany. Also, both women looked like their grandmothers. In When We Meet Again, we get the male perspective from the past, which I thought was interesting.If I had more time, I would have devoured this book in one sitting. The mystery of who Emily\\'s grandfather really was, and how she would even be able to find him, carried the story from beginning to end. We got glimpses of what life was like for her grandfather, as well. (Let\\'s just say, the circumstances were heartbreaking.) Emily also had her own issues, such as dealing with the aftermath of her father\\'s abandonment and the sacrifice she made for the two loves of her life. Kristin has delivered another winner and I hope everyone gets a chance to pick up this haunting story of redemption.Hollywood casting:Emily: Elisabeth MossVictor (Emily\\'s father): Richard JenkinsMargaret (1940s): Sarah BolgerPeter (1940s): Billy Magnussen'"
            ]
          },
          "metadata": {
            "tags": []
          },
          "execution_count": 6
        }
      ]
    },
    {
      "cell_type": "code",
      "metadata": {
        "id": "0nQ9I0Z4saRI"
      },
      "source": [
        "sub_rev['comment_nourl'] = sub_rev.ReviewerComment.apply(lambda x : re.sub(r'^https?:\\/\\/.*[\\r\\n]*', '',x))"
      ],
      "execution_count": null,
      "outputs": []
    },
    {
      "cell_type": "code",
      "metadata": {
        "id": "20jc465Os_FO",
        "outputId": "7bde39d7-4e01-4ecb-f0ab-9c3971b20d64",
        "colab": {
          "base_uri": "https://localhost:8080/",
          "height": 204
        }
      },
      "source": [
        "sub_rev.head()"
      ],
      "execution_count": null,
      "outputs": [
        {
          "output_type": "execute_result",
          "data": {
            "text/html": [
              "<div>\n",
              "<style scoped>\n",
              "    .dataframe tbody tr th:only-of-type {\n",
              "        vertical-align: middle;\n",
              "    }\n",
              "\n",
              "    .dataframe tbody tr th {\n",
              "        vertical-align: top;\n",
              "    }\n",
              "\n",
              "    .dataframe thead th {\n",
              "        text-align: right;\n",
              "    }\n",
              "</style>\n",
              "<table border=\"1\" class=\"dataframe\">\n",
              "  <thead>\n",
              "    <tr style=\"text-align: right;\">\n",
              "      <th></th>\n",
              "      <th>ReviewerComment</th>\n",
              "      <th>ReviewerRating</th>\n",
              "      <th>comment_nourl</th>\n",
              "    </tr>\n",
              "  </thead>\n",
              "  <tbody>\n",
              "    <tr>\n",
              "      <th>0</th>\n",
              "      <td>My first book by Kristin Harmel was charming, ...</td>\n",
              "      <td>4</td>\n",
              "      <td>My first book by Kristin Harmel was charming, ...</td>\n",
              "    </tr>\n",
              "    <tr>\n",
              "      <th>1</th>\n",
              "      <td>After reading some of Kristin Harmel's previou...</td>\n",
              "      <td>5</td>\n",
              "      <td>After reading some of Kristin Harmel's previou...</td>\n",
              "    </tr>\n",
              "    <tr>\n",
              "      <th>2</th>\n",
              "      <td>I really don't know where to begin and I am no...</td>\n",
              "      <td>4</td>\n",
              "      <td>I really don't know where to begin and I am no...</td>\n",
              "    </tr>\n",
              "    <tr>\n",
              "      <th>3</th>\n",
              "      <td>This book hooked me, and I read it all the way...</td>\n",
              "      <td>3</td>\n",
              "      <td>This book hooked me, and I read it all the way...</td>\n",
              "    </tr>\n",
              "    <tr>\n",
              "      <th>4</th>\n",
              "      <td>I am an official reviewer for NetGalley. With ...</td>\n",
              "      <td>5</td>\n",
              "      <td>I am an official reviewer for NetGalley. With ...</td>\n",
              "    </tr>\n",
              "  </tbody>\n",
              "</table>\n",
              "</div>"
            ],
            "text/plain": [
              "                                     ReviewerComment  ...                                      comment_nourl\n",
              "0  My first book by Kristin Harmel was charming, ...  ...  My first book by Kristin Harmel was charming, ...\n",
              "1  After reading some of Kristin Harmel's previou...  ...  After reading some of Kristin Harmel's previou...\n",
              "2  I really don't know where to begin and I am no...  ...  I really don't know where to begin and I am no...\n",
              "3  This book hooked me, and I read it all the way...  ...  This book hooked me, and I read it all the way...\n",
              "4  I am an official reviewer for NetGalley. With ...  ...  I am an official reviewer for NetGalley. With ...\n",
              "\n",
              "[5 rows x 3 columns]"
            ]
          },
          "metadata": {
            "tags": []
          },
          "execution_count": 11
        }
      ]
    },
    {
      "cell_type": "code",
      "metadata": {
        "id": "EbDaZoRi-526",
        "outputId": "5ee3139b-ac4f-4d2a-fa62-2d19ea648858",
        "colab": {
          "base_uri": "https://localhost:8080/",
          "height": 224
        }
      },
      "source": [
        "pip install langdetect"
      ],
      "execution_count": null,
      "outputs": [
        {
          "output_type": "stream",
          "text": [
            "Collecting langdetect\n",
            "\u001b[?25l  Downloading https://files.pythonhosted.org/packages/56/a3/8407c1e62d5980188b4acc45ef3d94b933d14a2ebc9ef3505f22cf772570/langdetect-1.0.8.tar.gz (981kB)\n",
            "\r\u001b[K     |▍                               | 10kB 22.3MB/s eta 0:00:01\r\u001b[K     |▊                               | 20kB 18.0MB/s eta 0:00:01\r\u001b[K     |█                               | 30kB 22.6MB/s eta 0:00:01\r\u001b[K     |█▍                              | 40kB 14.4MB/s eta 0:00:01\r\u001b[K     |█▊                              | 51kB 13.0MB/s eta 0:00:01\r\u001b[K     |██                              | 61kB 12.9MB/s eta 0:00:01\r\u001b[K     |██▍                             | 71kB 12.1MB/s eta 0:00:01\r\u001b[K     |██▊                             | 81kB 13.1MB/s eta 0:00:01\r\u001b[K     |███                             | 92kB 12.5MB/s eta 0:00:01\r\u001b[K     |███▍                            | 102kB 12.1MB/s eta 0:00:01\r\u001b[K     |███▊                            | 112kB 12.1MB/s eta 0:00:01\r\u001b[K     |████                            | 122kB 12.1MB/s eta 0:00:01\r\u001b[K     |████▍                           | 133kB 12.1MB/s eta 0:00:01\r\u001b[K     |████▊                           | 143kB 12.1MB/s eta 0:00:01\r\u001b[K     |█████                           | 153kB 12.1MB/s eta 0:00:01\r\u001b[K     |█████▍                          | 163kB 12.1MB/s eta 0:00:01\r\u001b[K     |█████▊                          | 174kB 12.1MB/s eta 0:00:01\r\u001b[K     |██████                          | 184kB 12.1MB/s eta 0:00:01\r\u001b[K     |██████▍                         | 194kB 12.1MB/s eta 0:00:01\r\u001b[K     |██████▊                         | 204kB 12.1MB/s eta 0:00:01\r\u001b[K     |███████                         | 215kB 12.1MB/s eta 0:00:01\r\u001b[K     |███████▍                        | 225kB 12.1MB/s eta 0:00:01\r\u001b[K     |███████▊                        | 235kB 12.1MB/s eta 0:00:01\r\u001b[K     |████████                        | 245kB 12.1MB/s eta 0:00:01\r\u001b[K     |████████▍                       | 256kB 12.1MB/s eta 0:00:01\r\u001b[K     |████████▊                       | 266kB 12.1MB/s eta 0:00:01\r\u001b[K     |█████████                       | 276kB 12.1MB/s eta 0:00:01\r\u001b[K     |█████████▍                      | 286kB 12.1MB/s eta 0:00:01\r\u001b[K     |█████████▊                      | 296kB 12.1MB/s eta 0:00:01\r\u001b[K     |██████████                      | 307kB 12.1MB/s eta 0:00:01\r\u001b[K     |██████████▍                     | 317kB 12.1MB/s eta 0:00:01\r\u001b[K     |██████████▊                     | 327kB 12.1MB/s eta 0:00:01\r\u001b[K     |███████████                     | 337kB 12.1MB/s eta 0:00:01\r\u001b[K     |███████████▍                    | 348kB 12.1MB/s eta 0:00:01\r\u001b[K     |███████████▊                    | 358kB 12.1MB/s eta 0:00:01\r\u001b[K     |████████████                    | 368kB 12.1MB/s eta 0:00:01\r\u001b[K     |████████████▍                   | 378kB 12.1MB/s eta 0:00:01\r\u001b[K     |████████████▊                   | 389kB 12.1MB/s eta 0:00:01\r\u001b[K     |█████████████                   | 399kB 12.1MB/s eta 0:00:01\r\u001b[K     |█████████████▍                  | 409kB 12.1MB/s eta 0:00:01\r\u001b[K     |█████████████▊                  | 419kB 12.1MB/s eta 0:00:01\r\u001b[K     |██████████████                  | 430kB 12.1MB/s eta 0:00:01\r\u001b[K     |██████████████▍                 | 440kB 12.1MB/s eta 0:00:01\r\u001b[K     |██████████████▊                 | 450kB 12.1MB/s eta 0:00:01\r\u001b[K     |███████████████                 | 460kB 12.1MB/s eta 0:00:01\r\u001b[K     |███████████████▍                | 471kB 12.1MB/s eta 0:00:01\r\u001b[K     |███████████████▊                | 481kB 12.1MB/s eta 0:00:01\r\u001b[K     |████████████████                | 491kB 12.1MB/s eta 0:00:01\r\u001b[K     |████████████████▍               | 501kB 12.1MB/s eta 0:00:01\r\u001b[K     |████████████████▊               | 512kB 12.1MB/s eta 0:00:01\r\u001b[K     |█████████████████               | 522kB 12.1MB/s eta 0:00:01\r\u001b[K     |█████████████████▍              | 532kB 12.1MB/s eta 0:00:01\r\u001b[K     |█████████████████▊              | 542kB 12.1MB/s eta 0:00:01\r\u001b[K     |██████████████████              | 552kB 12.1MB/s eta 0:00:01\r\u001b[K     |██████████████████▍             | 563kB 12.1MB/s eta 0:00:01\r\u001b[K     |██████████████████▊             | 573kB 12.1MB/s eta 0:00:01\r\u001b[K     |███████████████████             | 583kB 12.1MB/s eta 0:00:01\r\u001b[K     |███████████████████▍            | 593kB 12.1MB/s eta 0:00:01\r\u001b[K     |███████████████████▊            | 604kB 12.1MB/s eta 0:00:01\r\u001b[K     |████████████████████            | 614kB 12.1MB/s eta 0:00:01\r\u001b[K     |████████████████████▍           | 624kB 12.1MB/s eta 0:00:01\r\u001b[K     |████████████████████▊           | 634kB 12.1MB/s eta 0:00:01\r\u001b[K     |█████████████████████           | 645kB 12.1MB/s eta 0:00:01\r\u001b[K     |█████████████████████▍          | 655kB 12.1MB/s eta 0:00:01\r\u001b[K     |█████████████████████▊          | 665kB 12.1MB/s eta 0:00:01\r\u001b[K     |██████████████████████          | 675kB 12.1MB/s eta 0:00:01\r\u001b[K     |██████████████████████▍         | 686kB 12.1MB/s eta 0:00:01\r\u001b[K     |██████████████████████▊         | 696kB 12.1MB/s eta 0:00:01\r\u001b[K     |███████████████████████         | 706kB 12.1MB/s eta 0:00:01\r\u001b[K     |███████████████████████▍        | 716kB 12.1MB/s eta 0:00:01\r\u001b[K     |███████████████████████▊        | 727kB 12.1MB/s eta 0:00:01\r\u001b[K     |████████████████████████        | 737kB 12.1MB/s eta 0:00:01\r\u001b[K     |████████████████████████▍       | 747kB 12.1MB/s eta 0:00:01\r\u001b[K     |████████████████████████▊       | 757kB 12.1MB/s eta 0:00:01\r\u001b[K     |█████████████████████████       | 768kB 12.1MB/s eta 0:00:01\r\u001b[K     |█████████████████████████▍      | 778kB 12.1MB/s eta 0:00:01\r\u001b[K     |█████████████████████████▊      | 788kB 12.1MB/s eta 0:00:01\r\u001b[K     |██████████████████████████      | 798kB 12.1MB/s eta 0:00:01\r\u001b[K     |██████████████████████████▍     | 808kB 12.1MB/s eta 0:00:01\r\u001b[K     |██████████████████████████▊     | 819kB 12.1MB/s eta 0:00:01\r\u001b[K     |███████████████████████████     | 829kB 12.1MB/s eta 0:00:01\r\u001b[K     |███████████████████████████▍    | 839kB 12.1MB/s eta 0:00:01\r\u001b[K     |███████████████████████████▊    | 849kB 12.1MB/s eta 0:00:01\r\u001b[K     |████████████████████████████    | 860kB 12.1MB/s eta 0:00:01\r\u001b[K     |████████████████████████████▍   | 870kB 12.1MB/s eta 0:00:01\r\u001b[K     |████████████████████████████▊   | 880kB 12.1MB/s eta 0:00:01\r\u001b[K     |█████████████████████████████   | 890kB 12.1MB/s eta 0:00:01\r\u001b[K     |█████████████████████████████▍  | 901kB 12.1MB/s eta 0:00:01\r\u001b[K     |█████████████████████████████▊  | 911kB 12.1MB/s eta 0:00:01\r\u001b[K     |██████████████████████████████  | 921kB 12.1MB/s eta 0:00:01\r\u001b[K     |██████████████████████████████▍ | 931kB 12.1MB/s eta 0:00:01\r\u001b[K     |██████████████████████████████▊ | 942kB 12.1MB/s eta 0:00:01\r\u001b[K     |███████████████████████████████ | 952kB 12.1MB/s eta 0:00:01\r\u001b[K     |███████████████████████████████▍| 962kB 12.1MB/s eta 0:00:01\r\u001b[K     |███████████████████████████████▊| 972kB 12.1MB/s eta 0:00:01\r\u001b[K     |████████████████████████████████| 983kB 12.1MB/s \n",
            "\u001b[?25hRequirement already satisfied: six in /usr/local/lib/python3.6/dist-packages (from langdetect) (1.15.0)\n",
            "Building wheels for collected packages: langdetect\n",
            "  Building wheel for langdetect (setup.py) ... \u001b[?25l\u001b[?25hdone\n",
            "  Created wheel for langdetect: filename=langdetect-1.0.8-cp36-none-any.whl size=993195 sha256=0ae355c42e55e6dba892cdb15a2466980e9706518cee563eb6a75efa61f434f8\n",
            "  Stored in directory: /root/.cache/pip/wheels/8d/b3/aa/6d99de9f3841d7d3d40a60ea06e6d669e8e5012e6c8b947a57\n",
            "Successfully built langdetect\n",
            "Installing collected packages: langdetect\n",
            "Successfully installed langdetect-1.0.8\n"
          ],
          "name": "stdout"
        }
      ]
    },
    {
      "cell_type": "code",
      "metadata": {
        "id": "Ahgo_cj4CbHa",
        "outputId": "44d1ab51-4777-4bba-bf99-10a345af5958",
        "colab": {
          "base_uri": "https://localhost:8080/",
          "height": 34
        }
      },
      "source": [
        "# remove NA values\n",
        "sub_rev = sub_rev.loc[sub_rev.comment_nourl!='',:]\n",
        "sub_rev.shape"
      ],
      "execution_count": null,
      "outputs": [
        {
          "output_type": "execute_result",
          "data": {
            "text/plain": [
              "(32595, 3)"
            ]
          },
          "metadata": {
            "tags": []
          },
          "execution_count": 11
        }
      ]
    },
    {
      "cell_type": "code",
      "metadata": {
        "id": "ZjQT9urd-2nY"
      },
      "source": [
        "#detect language\n",
        "from langdetect import detect\n",
        "sub_rev['lang'] = sub_rev['comment_nourl'].apply(lambda x: detect(x))\n",
        "#text_list = list(sub_rev['comment_nourl'].values)"
      ],
      "execution_count": null,
      "outputs": []
    },
    {
      "cell_type": "code",
      "metadata": {
        "id": "pDxvJtxWEY65",
        "outputId": "e578af6f-a3b7-4fcc-cc7c-86e9c2ddf904",
        "colab": {
          "base_uri": "https://localhost:8080/",
          "height": 476
        }
      },
      "source": [
        "sub_rev.lang.value_counts()"
      ],
      "execution_count": null,
      "outputs": [
        {
          "output_type": "execute_result",
          "data": {
            "text/plain": [
              "en    32392\n",
              "fa       88\n",
              "es       31\n",
              "de       28\n",
              "pt        8\n",
              "it        6\n",
              "hr        5\n",
              "nl        5\n",
              "bg        5\n",
              "af        3\n",
              "ro        3\n",
              "sk        3\n",
              "uk        3\n",
              "hu        2\n",
              "id        2\n",
              "no        1\n",
              "vi        1\n",
              "fr        1\n",
              "lv        1\n",
              "ca        1\n",
              "pl        1\n",
              "da        1\n",
              "ar        1\n",
              "tl        1\n",
              "cs        1\n",
              "he        1\n",
              "Name: lang, dtype: int64"
            ]
          },
          "metadata": {
            "tags": []
          },
          "execution_count": 13
        }
      ]
    },
    {
      "cell_type": "code",
      "metadata": {
        "id": "Lf7rzIxzEdWV",
        "outputId": "b28372f0-1cf3-4531-d4ab-e456e4c9ce8e",
        "colab": {
          "base_uri": "https://localhost:8080/",
          "height": 34
        }
      },
      "source": [
        "sub_rev = sub_rev.loc[sub_rev.lang=='en',:]\n",
        "sub_rev.shape"
      ],
      "execution_count": null,
      "outputs": [
        {
          "output_type": "execute_result",
          "data": {
            "text/plain": [
              "(32392, 4)"
            ]
          },
          "metadata": {
            "tags": []
          },
          "execution_count": 14
        }
      ]
    },
    {
      "cell_type": "code",
      "metadata": {
        "id": "FcJkjlvqtMwg"
      },
      "source": [
        "from textblob import TextBlob\n",
        "\n",
        "pol = lambda x: TextBlob(x).sentiment.polarity\n",
        "sub = lambda x: TextBlob(x).sentiment.subjectivity\n",
        "\n",
        "sub_rev['polarity'] = sub_rev['comment_nourl'].apply(pol)\n",
        "sub_rev['subjectivity'] = sub_rev['comment_nourl'].apply(sub)"
      ],
      "execution_count": null,
      "outputs": []
    },
    {
      "cell_type": "code",
      "metadata": {
        "id": "MDppn2mGFXa1",
        "outputId": "b3ebd15a-6c47-4cad-f751-77cde8701c90",
        "colab": {
          "base_uri": "https://localhost:8080/",
          "height": 289
        }
      },
      "source": [
        "sub_rev.head()"
      ],
      "execution_count": null,
      "outputs": [
        {
          "output_type": "execute_result",
          "data": {
            "text/html": [
              "<div>\n",
              "<style scoped>\n",
              "    .dataframe tbody tr th:only-of-type {\n",
              "        vertical-align: middle;\n",
              "    }\n",
              "\n",
              "    .dataframe tbody tr th {\n",
              "        vertical-align: top;\n",
              "    }\n",
              "\n",
              "    .dataframe thead th {\n",
              "        text-align: right;\n",
              "    }\n",
              "</style>\n",
              "<table border=\"1\" class=\"dataframe\">\n",
              "  <thead>\n",
              "    <tr style=\"text-align: right;\">\n",
              "      <th></th>\n",
              "      <th>ReviewerComment</th>\n",
              "      <th>ReviewerRating</th>\n",
              "      <th>comment_nourl</th>\n",
              "      <th>lang</th>\n",
              "      <th>polarity</th>\n",
              "      <th>subjectivity</th>\n",
              "    </tr>\n",
              "  </thead>\n",
              "  <tbody>\n",
              "    <tr>\n",
              "      <th>0</th>\n",
              "      <td>My first book by Kristin Harmel was charming, ...</td>\n",
              "      <td>4</td>\n",
              "      <td>My first book by Kristin Harmel was charming, ...</td>\n",
              "      <td>en</td>\n",
              "      <td>0.028186</td>\n",
              "      <td>0.472549</td>\n",
              "    </tr>\n",
              "    <tr>\n",
              "      <th>1</th>\n",
              "      <td>After reading some of Kristin Harmel's previou...</td>\n",
              "      <td>5</td>\n",
              "      <td>After reading some of Kristin Harmel's previou...</td>\n",
              "      <td>en</td>\n",
              "      <td>0.256944</td>\n",
              "      <td>0.482639</td>\n",
              "    </tr>\n",
              "    <tr>\n",
              "      <th>2</th>\n",
              "      <td>I really don't know where to begin and I am no...</td>\n",
              "      <td>4</td>\n",
              "      <td>I really don't know where to begin and I am no...</td>\n",
              "      <td>en</td>\n",
              "      <td>0.315480</td>\n",
              "      <td>0.506795</td>\n",
              "    </tr>\n",
              "    <tr>\n",
              "      <th>3</th>\n",
              "      <td>This book hooked me, and I read it all the way...</td>\n",
              "      <td>3</td>\n",
              "      <td>This book hooked me, and I read it all the way...</td>\n",
              "      <td>en</td>\n",
              "      <td>0.121801</td>\n",
              "      <td>0.342115</td>\n",
              "    </tr>\n",
              "    <tr>\n",
              "      <th>4</th>\n",
              "      <td>I am an official reviewer for NetGalley. With ...</td>\n",
              "      <td>5</td>\n",
              "      <td>I am an official reviewer for NetGalley. With ...</td>\n",
              "      <td>en</td>\n",
              "      <td>0.394989</td>\n",
              "      <td>0.529737</td>\n",
              "    </tr>\n",
              "  </tbody>\n",
              "</table>\n",
              "</div>"
            ],
            "text/plain": [
              "                                     ReviewerComment  ... subjectivity\n",
              "0  My first book by Kristin Harmel was charming, ...  ...     0.472549\n",
              "1  After reading some of Kristin Harmel's previou...  ...     0.482639\n",
              "2  I really don't know where to begin and I am no...  ...     0.506795\n",
              "3  This book hooked me, and I read it all the way...  ...     0.342115\n",
              "4  I am an official reviewer for NetGalley. With ...  ...     0.529737\n",
              "\n",
              "[5 rows x 6 columns]"
            ]
          },
          "metadata": {
            "tags": []
          },
          "execution_count": 40
        }
      ]
    },
    {
      "cell_type": "code",
      "metadata": {
        "id": "Opb9Jg7-urox",
        "outputId": "b87f7eb2-822f-4fef-a81a-6b28b7ca532e",
        "colab": {
          "base_uri": "https://localhost:8080/",
          "height": 282
        }
      },
      "source": [
        "sub_rev.polarity.plot.hist()"
      ],
      "execution_count": null,
      "outputs": [
        {
          "output_type": "execute_result",
          "data": {
            "text/plain": [
              "<matplotlib.axes._subplots.AxesSubplot at 0x7f718c906ba8>"
            ]
          },
          "metadata": {
            "tags": []
          },
          "execution_count": 41
        },
        {
          "output_type": "display_data",
          "data": {
            "image/png": "[encoded data removed]",
            "text/plain": [
              "<Figure size 432x288 with 1 Axes>"
            ]
          },
          "metadata": {
            "tags": [],
            "needs_background": "light"
          }
        }
      ]
    },
    {
      "cell_type": "code",
      "metadata": {
        "id": "85gThvgXu4SZ",
        "outputId": "da80a2a6-00cd-40eb-ad32-3ed0f7d6c1c4",
        "colab": {
          "base_uri": "https://localhost:8080/",
          "height": 318
        }
      },
      "source": [
        "sub_rev.boxplot(by=['ReviewerRating'],column=['polarity'])"
      ],
      "execution_count": null,
      "outputs": [
        {
          "output_type": "execute_result",
          "data": {
            "text/plain": [
              "<matplotlib.axes._subplots.AxesSubplot at 0x7f718c942ac8>"
            ]
          },
          "metadata": {
            "tags": []
          },
          "execution_count": 42
        },
        {
          "output_type": "display_data",
          "data": {
            "image/png": "[encoded data removed]",
            "text/plain": [
              "<Figure size 432x288 with 1 Axes>"
            ]
          },
          "metadata": {
            "tags": [],
            "needs_background": "light"
          }
        }
      ]
    },
    {
      "cell_type": "code",
      "metadata": {
        "id": "DNiisKsSvo52",
        "outputId": "41bd8807-d26d-43f7-a4a3-799006ba4ca2",
        "colab": {
          "base_uri": "https://localhost:8080/",
          "height": 318
        }
      },
      "source": [
        "sub_rev.boxplot(by=['ReviewerRating'],column=['subjectivity'])"
      ],
      "execution_count": null,
      "outputs": [
        {
          "output_type": "execute_result",
          "data": {
            "text/plain": [
              "<matplotlib.axes._subplots.AxesSubplot at 0x7f718c962a20>"
            ]
          },
          "metadata": {
            "tags": []
          },
          "execution_count": 43
        },
        {
          "output_type": "display_data",
          "data": {
            "image/png": "[encoded data removed]",
            "text/plain": [
              "<Figure size 432x288 with 1 Axes>"
            ]
          },
          "metadata": {
            "tags": [],
            "needs_background": "light"
          }
        }
      ]
    },
    {
      "cell_type": "code",
      "metadata": {
        "id": "JgLnJOBtGTtS",
        "outputId": "790a8b90-f4cd-44c5-8ca8-0d2edbc8b030",
        "colab": {
          "base_uri": "https://localhost:8080/",
          "height": 34
        }
      },
      "source": [
        "sub_rev.ReviewerRating.unique()"
      ],
      "execution_count": null,
      "outputs": [
        {
          "output_type": "execute_result",
          "data": {
            "text/plain": [
              "array(['4', '5', '3', '2', '1'], dtype=object)"
            ]
          },
          "metadata": {
            "tags": []
          },
          "execution_count": 44
        }
      ]
    },
    {
      "cell_type": "code",
      "metadata": {
        "id": "PKaAUyaZ7MGs"
      },
      "source": [
        "#label data\n",
        "# 1,2 => 0(neg),4,5=>1(pos)\n",
        "sub_rev['rating'] = np.where(sub_rev.ReviewerRating.isin(['1','2']),0,1)\n"
      ],
      "execution_count": null,
      "outputs": []
    },
    {
      "cell_type": "code",
      "metadata": {
        "id": "eW9mrrGWHbC3",
        "outputId": "655ea547-318a-418b-de8e-92996f8a1005",
        "colab": {
          "base_uri": "https://localhost:8080/",
          "height": 34
        }
      },
      "source": [
        "sub_rev = sub_rev.loc[sub_rev.ReviewerRating!='3',:]\n",
        "sub_rev.shape"
      ],
      "execution_count": null,
      "outputs": [
        {
          "output_type": "execute_result",
          "data": {
            "text/plain": [
              "(27616, 5)"
            ]
          },
          "metadata": {
            "tags": []
          },
          "execution_count": 16
        }
      ]
    },
    {
      "cell_type": "code",
      "metadata": {
        "id": "Cb7GyLGEG-Z9",
        "outputId": "a6a6ce0d-f40d-48dd-9deb-d4becb4df742",
        "colab": {
          "base_uri": "https://localhost:8080/",
          "height": 68
        }
      },
      "source": [
        "sub_rev.rating.value_counts()"
      ],
      "execution_count": null,
      "outputs": [
        {
          "output_type": "execute_result",
          "data": {
            "text/plain": [
              "1    24111\n",
              "0     3505\n",
              "Name: rating, dtype: int64"
            ]
          },
          "metadata": {
            "tags": []
          },
          "execution_count": 17
        }
      ]
    },
    {
      "cell_type": "code",
      "metadata": {
        "id": "C0AmbjzXH3EB",
        "outputId": "9d9c8cd0-c17e-46ad-f7de-94a2973e346a",
        "colab": {
          "base_uri": "https://localhost:8080/",
          "height": 204
        }
      },
      "source": [
        "data = sub_rev.loc[:,['comment_nourl','rating']].reset_index(drop=True)\n",
        "data.head()"
      ],
      "execution_count": null,
      "outputs": [
        {
          "output_type": "execute_result",
          "data": {
            "text/html": [
              "<div>\n",
              "<style scoped>\n",
              "    .dataframe tbody tr th:only-of-type {\n",
              "        vertical-align: middle;\n",
              "    }\n",
              "\n",
              "    .dataframe tbody tr th {\n",
              "        vertical-align: top;\n",
              "    }\n",
              "\n",
              "    .dataframe thead th {\n",
              "        text-align: right;\n",
              "    }\n",
              "</style>\n",
              "<table border=\"1\" class=\"dataframe\">\n",
              "  <thead>\n",
              "    <tr style=\"text-align: right;\">\n",
              "      <th></th>\n",
              "      <th>comment_nourl</th>\n",
              "      <th>rating</th>\n",
              "    </tr>\n",
              "  </thead>\n",
              "  <tbody>\n",
              "    <tr>\n",
              "      <th>0</th>\n",
              "      <td>My first book by Kristin Harmel was charming, ...</td>\n",
              "      <td>1</td>\n",
              "    </tr>\n",
              "    <tr>\n",
              "      <th>1</th>\n",
              "      <td>After reading some of Kristin Harmel's previou...</td>\n",
              "      <td>1</td>\n",
              "    </tr>\n",
              "    <tr>\n",
              "      <th>2</th>\n",
              "      <td>I really don't know where to begin and I am no...</td>\n",
              "      <td>1</td>\n",
              "    </tr>\n",
              "    <tr>\n",
              "      <th>3</th>\n",
              "      <td>I am an official reviewer for NetGalley. With ...</td>\n",
              "      <td>1</td>\n",
              "    </tr>\n",
              "    <tr>\n",
              "      <th>4</th>\n",
              "      <td>This book - This book. It hit me hard in all s...</td>\n",
              "      <td>1</td>\n",
              "    </tr>\n",
              "  </tbody>\n",
              "</table>\n",
              "</div>"
            ],
            "text/plain": [
              "                                       comment_nourl  rating\n",
              "0  My first book by Kristin Harmel was charming, ...       1\n",
              "1  After reading some of Kristin Harmel's previou...       1\n",
              "2  I really don't know where to begin and I am no...       1\n",
              "3  I am an official reviewer for NetGalley. With ...       1\n",
              "4  This book - This book. It hit me hard in all s...       1"
            ]
          },
          "metadata": {
            "tags": []
          },
          "execution_count": 18
        }
      ]
    },
    {
      "cell_type": "code",
      "metadata": {
        "id": "1MMTXIywLEGa"
      },
      "source": [
        "data.to_csv('processed_reviews.csv',index=False)"
      ],
      "execution_count": null,
      "outputs": []
    },
    {
      "cell_type": "markdown",
      "metadata": {
        "id": "fPp-npeqGDj7"
      },
      "source": [
        "# Bert"
      ]
    },
    {
      "cell_type": "markdown",
      "metadata": {
        "id": "71pMiAhQIiuA"
      },
      "source": [
        "## Setup"
      ]
    },
    {
      "cell_type": "code",
      "metadata": {
        "id": "IA_durCfIh8f",
        "outputId": "4dc38fb9-3990-4633-e28b-f21541fa1435",
        "colab": {
          "base_uri": "https://localhost:8080/"
        }
      },
      "source": [
        "import torch\n",
        "\n",
        "# If there's a GPU available...\n",
        "if torch.cuda.is_available():    \n",
        "\n",
        "    # Tell PyTorch to use the GPU.    \n",
        "    device = torch.device(\"cuda\")\n",
        "\n",
        "    print('There are %d GPU(s) available.' % torch.cuda.device_count())\n",
        "\n",
        "    print('We will use the GPU:', torch.cuda.get_device_name(0))\n",
        "\n",
        "# If not...\n",
        "else:\n",
        "    print('No GPU available, using the CPU instead.')\n",
        "    device = torch.device(\"cpu\")"
      ],
      "execution_count": 3,
      "outputs": [
        {
          "output_type": "stream",
          "text": [
            "There are 1 GPU(s) available.\n",
            "We will use the GPU: Tesla T4\n"
          ],
          "name": "stdout"
        }
      ]
    },
    {
      "cell_type": "code",
      "metadata": {
        "id": "EoYUQhqPINM4",
        "outputId": "828031f0-1c21-45fe-af60-833abafaf731",
        "colab": {
          "base_uri": "https://localhost:8080/"
        }
      },
      "source": [
        "!pip install transformers"
      ],
      "execution_count": 4,
      "outputs": [
        {
          "output_type": "stream",
          "text": [
            "Collecting transformers\n",
            "\u001b[?25l  Downloading https://files.pythonhosted.org/packages/2c/4e/4f1ede0fd7a36278844a277f8d53c21f88f37f3754abf76a5d6224f76d4a/transformers-3.4.0-py3-none-any.whl (1.3MB)\n",
            "\u001b[K     |████████████████████████████████| 1.3MB 12.0MB/s \n",
            "\u001b[?25hCollecting sentencepiece!=0.1.92\n",
            "\u001b[?25l  Downloading https://files.pythonhosted.org/packages/e5/2d/6d4ca4bef9a67070fa1cac508606328329152b1df10bdf31fb6e4e727894/sentencepiece-0.1.94-cp36-cp36m-manylinux2014_x86_64.whl (1.1MB)\n",
            "\u001b[K     |████████████████████████████████| 1.1MB 48.8MB/s \n",
            "\u001b[?25hRequirement already satisfied: protobuf in /usr/local/lib/python3.6/dist-packages (from transformers) (3.12.4)\n",
            "Requirement already satisfied: numpy in /usr/local/lib/python3.6/dist-packages (from transformers) (1.18.5)\n",
            "Collecting sacremoses\n",
            "\u001b[?25l  Downloading https://files.pythonhosted.org/packages/7d/34/09d19aff26edcc8eb2a01bed8e98f13a1537005d31e95233fd48216eed10/sacremoses-0.0.43.tar.gz (883kB)\n",
            "\u001b[K     |████████████████████████████████| 890kB 51.2MB/s \n",
            "\u001b[?25hRequirement already satisfied: packaging in /usr/local/lib/python3.6/dist-packages (from transformers) (20.4)\n",
            "Requirement already satisfied: regex!=2019.12.17 in /usr/local/lib/python3.6/dist-packages (from transformers) (2019.12.20)\n",
            "Requirement already satisfied: filelock in /usr/local/lib/python3.6/dist-packages (from transformers) (3.0.12)\n",
            "Requirement already satisfied: tqdm>=4.27 in /usr/local/lib/python3.6/dist-packages (from transformers) (4.41.1)\n",
            "Requirement already satisfied: dataclasses; python_version < \"3.7\" in /usr/local/lib/python3.6/dist-packages (from transformers) (0.7)\n",
            "Collecting tokenizers==0.9.2\n",
            "\u001b[?25l  Downloading https://files.pythonhosted.org/packages/7c/a5/78be1a55b2ac8d6a956f0a211d372726e2b1dd2666bb537fea9b03abd62c/tokenizers-0.9.2-cp36-cp36m-manylinux1_x86_64.whl (2.9MB)\n",
            "\u001b[K     |████████████████████████████████| 2.9MB 49.0MB/s \n",
            "\u001b[?25hRequirement already satisfied: requests in /usr/local/lib/python3.6/dist-packages (from transformers) (2.23.0)\n",
            "Requirement already satisfied: setuptools in /usr/local/lib/python3.6/dist-packages (from protobuf->transformers) (50.3.2)\n",
            "Requirement already satisfied: six>=1.9 in /usr/local/lib/python3.6/dist-packages (from protobuf->transformers) (1.15.0)\n",
            "Requirement already satisfied: click in /usr/local/lib/python3.6/dist-packages (from sacremoses->transformers) (7.1.2)\n",
            "Requirement already satisfied: joblib in /usr/local/lib/python3.6/dist-packages (from sacremoses->transformers) (0.17.0)\n",
            "Requirement already satisfied: pyparsing>=2.0.2 in /usr/local/lib/python3.6/dist-packages (from packaging->transformers) (2.4.7)\n",
            "Requirement already satisfied: chardet<4,>=3.0.2 in /usr/local/lib/python3.6/dist-packages (from requests->transformers) (3.0.4)\n",
            "Requirement already satisfied: certifi>=2017.4.17 in /usr/local/lib/python3.6/dist-packages (from requests->transformers) (2020.6.20)\n",
            "Requirement already satisfied: urllib3!=1.25.0,!=1.25.1,<1.26,>=1.21.1 in /usr/local/lib/python3.6/dist-packages (from requests->transformers) (1.24.3)\n",
            "Requirement already satisfied: idna<3,>=2.5 in /usr/local/lib/python3.6/dist-packages (from requests->transformers) (2.10)\n",
            "Building wheels for collected packages: sacremoses\n",
            "  Building wheel for sacremoses (setup.py) ... \u001b[?25l\u001b[?25hdone\n",
            "  Created wheel for sacremoses: filename=sacremoses-0.0.43-cp36-none-any.whl size=893257 sha256=019cc69820382fef4271d46a8d581dc06c535d26dbddcc452066481d5f2384f3\n",
            "  Stored in directory: /root/.cache/pip/wheels/29/3c/fd/7ce5c3f0666dab31a50123635e6fb5e19ceb42ce38d4e58f45\n",
            "Successfully built sacremoses\n",
            "Installing collected packages: sentencepiece, sacremoses, tokenizers, transformers\n",
            "Successfully installed sacremoses-0.0.43 sentencepiece-0.1.94 tokenizers-0.9.2 transformers-3.4.0\n"
          ],
          "name": "stdout"
        }
      ]
    },
    {
      "cell_type": "code",
      "metadata": {
        "id": "l5Epzv_OPpZ7",
        "outputId": "90d2c078-bcd9-42cf-b5bf-08793edeb84e",
        "colab": {
          "base_uri": "https://localhost:8080/"
        }
      },
      "source": [
        "data = pd.read_csv('processed_reviews.csv')\n",
        "data.info()"
      ],
      "execution_count": 5,
      "outputs": [
        {
          "output_type": "stream",
          "text": [
            "<class 'pandas.core.frame.DataFrame'>\n",
            "RangeIndex: 27616 entries, 0 to 27615\n",
            "Data columns (total 2 columns):\n",
            " #   Column         Non-Null Count  Dtype \n",
            "---  ------         --------------  ----- \n",
            " 0   comment_nourl  27616 non-null  object\n",
            " 1   rating         27616 non-null  int64 \n",
            "dtypes: int64(1), object(1)\n",
            "memory usage: 431.6+ KB\n"
          ],
          "name": "stdout"
        }
      ]
    },
    {
      "cell_type": "code",
      "metadata": {
        "id": "o85K60_P8fXQ",
        "outputId": "a5a19c90-cc8e-45a8-bab1-c66822e8ac93",
        "colab": {
          "base_uri": "https://localhost:8080/"
        }
      },
      "source": [
        "data.rating.value_counts()"
      ],
      "execution_count": null,
      "outputs": [
        {
          "output_type": "execute_result",
          "data": {
            "text/plain": [
              "1    24111\n",
              "0     3505\n",
              "Name: rating, dtype: int64"
            ]
          },
          "metadata": {
            "tags": []
          },
          "execution_count": 8
        }
      ]
    },
    {
      "cell_type": "code",
      "metadata": {
        "id": "MwVJXssvMv0q"
      },
      "source": [
        "from transformers import BertModel, BertTokenizer, AdamW, get_linear_schedule_with_warmup\n",
        "from sklearn.model_selection import train_test_split\n",
        "from sklearn.metrics import confusion_matrix, classification_report\n",
        "from torch import nn, optim\n",
        "from torch.utils.data import Dataset, DataLoader\n",
        "import torch.nn.functional as F\n",
        "\n",
        "import seaborn as sns\n",
        "from pylab import rcParams\n",
        "import matplotlib.pyplot as plt\n",
        "from matplotlib import rc\n",
        "from sklearn.model_selection import train_test_split\n",
        "from sklearn.metrics import confusion_matrix, classification_report\n"
      ],
      "execution_count": 6,
      "outputs": []
    },
    {
      "cell_type": "code",
      "metadata": {
        "id": "nGWw6TlQRanR",
        "outputId": "b6abad20-1c64-479f-dfae-14cbce9d01cb",
        "colab": {
          "base_uri": "https://localhost:8080/",
          "height": 83,
          "referenced_widgets": [
            "8f7a0ab836d24ddcb26f9f7b227126b7",
            "9217a4e18b16419da379abbaf6f7f363",
            "56eb48eeca454719b066977de00f9870",
            "6023dc38281b4b8d9ef5d8338b3a85f6",
            "ee928547c921400c840c8f8c1ee93dd0",
            "be902f76a37b492b98612ef5292cdea1",
            "65abdbf614604282bf30cce73ebac625",
            "b4a4a44f23364dff8fe79e5ea62eda0f"
          ]
        }
      },
      "source": [
        "print('Loading BERT tokenizer...')\n",
        "PRE_TRAINED_MODEL_NAME = 'bert-base-uncased'\n",
        "tokenizer = BertTokenizer.from_pretrained(PRE_TRAINED_MODEL_NAME,do_lower_case=True)"
      ],
      "execution_count": 7,
      "outputs": [
        {
          "output_type": "stream",
          "text": [
            "Loading BERT tokenizer...\n"
          ],
          "name": "stdout"
        },
        {
          "output_type": "display_data",
          "data": {
            "application/vnd.jupyter.widget-view+json": {
              "model_id": "8f7a0ab836d24ddcb26f9f7b227126b7",
              "version_minor": 0,
              "version_major": 2
            },
            "text/plain": [
              "HBox(children=(FloatProgress(value=0.0, description='Downloading', max=231508.0, style=ProgressStyle(descripti…"
            ]
          },
          "metadata": {
            "tags": []
          }
        },
        {
          "output_type": "stream",
          "text": [
            "\n"
          ],
          "name": "stdout"
        }
      ]
    },
    {
      "cell_type": "code",
      "metadata": {
        "id": "TWuXNdv9C5EH",
        "outputId": "007144b3-5988-42b8-a2ba-b41524985115",
        "colab": {
          "base_uri": "https://localhost:8080/",
          "height": 358
        }
      },
      "source": [
        "#Understand text length\n",
        "token_lens = []\n",
        "for txt in data.comment_nourl:\n",
        "  tokens = tokenizer.encode(txt, max_length=512,truncation=True)\n",
        "  token_lens.append(len(tokens))"
      ],
      "execution_count": 8,
      "outputs": [
        {
          "output_type": "error",
          "ename": "KeyboardInterrupt",
          "evalue": "ignored",
          "traceback": [
            "\u001b[0;31m---------------------------------------------------------------------------\u001b[0m",
            "\u001b[0;31mKeyboardInterrupt\u001b[0m                         Traceback (most recent call last)",
            "\u001b[0;32m<ipython-input-8-568b2d6ff3f2>\u001b[0m in \u001b[0;36m<module>\u001b[0;34m()\u001b[0m\n\u001b[1;32m      2\u001b[0m \u001b[0mtoken_lens\u001b[0m \u001b[0;34m=\u001b[0m \u001b[0;34m[\u001b[0m\u001b[0;34m]\u001b[0m\u001b[0;34m\u001b[0m\u001b[0;34m\u001b[0m\u001b[0m\n\u001b[1;32m      3\u001b[0m \u001b[0;32mfor\u001b[0m \u001b[0mtxt\u001b[0m \u001b[0;32min\u001b[0m \u001b[0mdata\u001b[0m\u001b[0;34m.\u001b[0m\u001b[0mcomment_nourl\u001b[0m\u001b[0;34m:\u001b[0m\u001b[0;34m\u001b[0m\u001b[0;34m\u001b[0m\u001b[0m\n\u001b[0;32m----> 4\u001b[0;31m   \u001b[0mtokens\u001b[0m \u001b[0;34m=\u001b[0m \u001b[0mtokenizer\u001b[0m\u001b[0;34m.\u001b[0m\u001b[0mencode\u001b[0m\u001b[0;34m(\u001b[0m\u001b[0mtxt\u001b[0m\u001b[0;34m,\u001b[0m \u001b[0mmax_length\u001b[0m\u001b[0;34m=\u001b[0m\u001b[0;36m512\u001b[0m\u001b[0;34m,\u001b[0m\u001b[0mtruncation\u001b[0m\u001b[0;34m=\u001b[0m\u001b[0;32mTrue\u001b[0m\u001b[0;34m)\u001b[0m\u001b[0;34m\u001b[0m\u001b[0;34m\u001b[0m\u001b[0m\n\u001b[0m\u001b[1;32m      5\u001b[0m   \u001b[0mtoken_lens\u001b[0m\u001b[0;34m.\u001b[0m\u001b[0mappend\u001b[0m\u001b[0;34m(\u001b[0m\u001b[0mlen\u001b[0m\u001b[0;34m(\u001b[0m\u001b[0mtokens\u001b[0m\u001b[0;34m)\u001b[0m\u001b[0;34m)\u001b[0m\u001b[0;34m\u001b[0m\u001b[0;34m\u001b[0m\u001b[0m\n",
            "\u001b[0;32m/usr/local/lib/python3.6/dist-packages/transformers/tokenization_utils_base.py\u001b[0m in \u001b[0;36mencode\u001b[0;34m(self, text, text_pair, add_special_tokens, padding, truncation, max_length, stride, return_tensors, **kwargs)\u001b[0m\n\u001b[1;32m   1900\u001b[0m             \u001b[0mstride\u001b[0m\u001b[0;34m=\u001b[0m\u001b[0mstride\u001b[0m\u001b[0;34m,\u001b[0m\u001b[0;34m\u001b[0m\u001b[0;34m\u001b[0m\u001b[0m\n\u001b[1;32m   1901\u001b[0m             \u001b[0mreturn_tensors\u001b[0m\u001b[0;34m=\u001b[0m\u001b[0mreturn_tensors\u001b[0m\u001b[0;34m,\u001b[0m\u001b[0;34m\u001b[0m\u001b[0;34m\u001b[0m\u001b[0m\n\u001b[0;32m-> 1902\u001b[0;31m             \u001b[0;34m**\u001b[0m\u001b[0mkwargs\u001b[0m\u001b[0;34m,\u001b[0m\u001b[0;34m\u001b[0m\u001b[0;34m\u001b[0m\u001b[0m\n\u001b[0m\u001b[1;32m   1903\u001b[0m         )\n\u001b[1;32m   1904\u001b[0m \u001b[0;34m\u001b[0m\u001b[0m\n",
            "\u001b[0;32m/usr/local/lib/python3.6/dist-packages/transformers/tokenization_utils_base.py\u001b[0m in \u001b[0;36mencode_plus\u001b[0;34m(self, text, text_pair, add_special_tokens, padding, truncation, max_length, stride, is_split_into_words, pad_to_multiple_of, return_tensors, return_token_type_ids, return_attention_mask, return_overflowing_tokens, return_special_tokens_mask, return_offsets_mapping, return_length, verbose, **kwargs)\u001b[0m\n\u001b[1;32m   2227\u001b[0m             \u001b[0mreturn_length\u001b[0m\u001b[0;34m=\u001b[0m\u001b[0mreturn_length\u001b[0m\u001b[0;34m,\u001b[0m\u001b[0;34m\u001b[0m\u001b[0;34m\u001b[0m\u001b[0m\n\u001b[1;32m   2228\u001b[0m             \u001b[0mverbose\u001b[0m\u001b[0;34m=\u001b[0m\u001b[0mverbose\u001b[0m\u001b[0;34m,\u001b[0m\u001b[0;34m\u001b[0m\u001b[0;34m\u001b[0m\u001b[0m\n\u001b[0;32m-> 2229\u001b[0;31m             \u001b[0;34m**\u001b[0m\u001b[0mkwargs\u001b[0m\u001b[0;34m,\u001b[0m\u001b[0;34m\u001b[0m\u001b[0;34m\u001b[0m\u001b[0m\n\u001b[0m\u001b[1;32m   2230\u001b[0m         )\n\u001b[1;32m   2231\u001b[0m \u001b[0;34m\u001b[0m\u001b[0m\n",
            "\u001b[0;32m/usr/local/lib/python3.6/dist-packages/transformers/tokenization_utils.py\u001b[0m in \u001b[0;36m_encode_plus\u001b[0;34m(self, text, text_pair, add_special_tokens, padding_strategy, truncation_strategy, max_length, stride, is_split_into_words, pad_to_multiple_of, return_tensors, return_token_type_ids, return_attention_mask, return_overflowing_tokens, return_special_tokens_mask, return_offsets_mapping, return_length, verbose, **kwargs)\u001b[0m\n\u001b[1;32m    488\u001b[0m             \u001b[0mreturn_special_tokens_mask\u001b[0m\u001b[0;34m=\u001b[0m\u001b[0mreturn_special_tokens_mask\u001b[0m\u001b[0;34m,\u001b[0m\u001b[0;34m\u001b[0m\u001b[0;34m\u001b[0m\u001b[0m\n\u001b[1;32m    489\u001b[0m             \u001b[0mreturn_length\u001b[0m\u001b[0;34m=\u001b[0m\u001b[0mreturn_length\u001b[0m\u001b[0;34m,\u001b[0m\u001b[0;34m\u001b[0m\u001b[0;34m\u001b[0m\u001b[0m\n\u001b[0;32m--> 490\u001b[0;31m             \u001b[0mverbose\u001b[0m\u001b[0;34m=\u001b[0m\u001b[0mverbose\u001b[0m\u001b[0;34m,\u001b[0m\u001b[0;34m\u001b[0m\u001b[0;34m\u001b[0m\u001b[0m\n\u001b[0m\u001b[1;32m    491\u001b[0m         )\n\u001b[1;32m    492\u001b[0m \u001b[0;34m\u001b[0m\u001b[0m\n",
            "\u001b[0;32m/usr/local/lib/python3.6/dist-packages/transformers/tokenization_utils_base.py\u001b[0m in \u001b[0;36mprepare_for_model\u001b[0;34m(self, ids, pair_ids, add_special_tokens, padding, truncation, max_length, stride, pad_to_multiple_of, return_tensors, return_token_type_ids, return_attention_mask, return_overflowing_tokens, return_special_tokens_mask, return_offsets_mapping, return_length, verbose, prepend_batch_axis, **kwargs)\u001b[0m\n\u001b[1;32m   2679\u001b[0m                 \u001b[0mencoded_inputs\u001b[0m\u001b[0;34m,\u001b[0m\u001b[0;34m\u001b[0m\u001b[0;34m\u001b[0m\u001b[0m\n\u001b[1;32m   2680\u001b[0m                 \u001b[0mmax_length\u001b[0m\u001b[0;34m=\u001b[0m\u001b[0mmax_length\u001b[0m\u001b[0;34m,\u001b[0m\u001b[0;34m\u001b[0m\u001b[0;34m\u001b[0m\u001b[0m\n\u001b[0;32m-> 2681\u001b[0;31m                 \u001b[0mpadding\u001b[0m\u001b[0;34m=\u001b[0m\u001b[0mpadding_strategy\u001b[0m\u001b[0;34m.\u001b[0m\u001b[0mvalue\u001b[0m\u001b[0;34m,\u001b[0m\u001b[0;34m\u001b[0m\u001b[0;34m\u001b[0m\u001b[0m\n\u001b[0m\u001b[1;32m   2682\u001b[0m                 \u001b[0mpad_to_multiple_of\u001b[0m\u001b[0;34m=\u001b[0m\u001b[0mpad_to_multiple_of\u001b[0m\u001b[0;34m,\u001b[0m\u001b[0;34m\u001b[0m\u001b[0;34m\u001b[0m\u001b[0m\n\u001b[1;32m   2683\u001b[0m                 \u001b[0mreturn_attention_mask\u001b[0m\u001b[0;34m=\u001b[0m\u001b[0mreturn_attention_mask\u001b[0m\u001b[0;34m,\u001b[0m\u001b[0;34m\u001b[0m\u001b[0;34m\u001b[0m\u001b[0m\n",
            "\u001b[0;32m/usr/lib/python3.6/types.py\u001b[0m in \u001b[0;36m__get__\u001b[0;34m(self, instance, ownerclass)\u001b[0m\n\u001b[1;32m    133\u001b[0m         \u001b[0mself\u001b[0m\u001b[0;34m.\u001b[0m\u001b[0m__isabstractmethod__\u001b[0m \u001b[0;34m=\u001b[0m \u001b[0mbool\u001b[0m\u001b[0;34m(\u001b[0m\u001b[0mgetattr\u001b[0m\u001b[0;34m(\u001b[0m\u001b[0mfget\u001b[0m\u001b[0;34m,\u001b[0m \u001b[0;34m'__isabstractmethod__'\u001b[0m\u001b[0;34m,\u001b[0m \u001b[0;32mFalse\u001b[0m\u001b[0;34m)\u001b[0m\u001b[0;34m)\u001b[0m\u001b[0;34m\u001b[0m\u001b[0;34m\u001b[0m\u001b[0m\n\u001b[1;32m    134\u001b[0m \u001b[0;34m\u001b[0m\u001b[0m\n\u001b[0;32m--> 135\u001b[0;31m     \u001b[0;32mdef\u001b[0m \u001b[0m__get__\u001b[0m\u001b[0;34m(\u001b[0m\u001b[0mself\u001b[0m\u001b[0;34m,\u001b[0m \u001b[0minstance\u001b[0m\u001b[0;34m,\u001b[0m \u001b[0mownerclass\u001b[0m\u001b[0;34m=\u001b[0m\u001b[0;32mNone\u001b[0m\u001b[0;34m)\u001b[0m\u001b[0;34m:\u001b[0m\u001b[0;34m\u001b[0m\u001b[0;34m\u001b[0m\u001b[0m\n\u001b[0m\u001b[1;32m    136\u001b[0m         \u001b[0;32mif\u001b[0m \u001b[0minstance\u001b[0m \u001b[0;32mis\u001b[0m \u001b[0;32mNone\u001b[0m\u001b[0;34m:\u001b[0m\u001b[0;34m\u001b[0m\u001b[0;34m\u001b[0m\u001b[0m\n\u001b[1;32m    137\u001b[0m             \u001b[0;32mif\u001b[0m \u001b[0mself\u001b[0m\u001b[0;34m.\u001b[0m\u001b[0m__isabstractmethod__\u001b[0m\u001b[0;34m:\u001b[0m\u001b[0;34m\u001b[0m\u001b[0;34m\u001b[0m\u001b[0m\n",
            "\u001b[0;31mKeyboardInterrupt\u001b[0m: "
          ]
        }
      ]
    },
    {
      "cell_type": "code",
      "metadata": {
        "id": "8l7_YUKqFNK2",
        "outputId": "b69f6438-5db8-456d-8fbf-4f3420d49617",
        "colab": {
          "base_uri": "https://localhost:8080/",
          "height": 350
        }
      },
      "source": [
        "sns.distplot(token_lens)\n",
        "\n",
        "plt.xlabel('Token count')"
      ],
      "execution_count": null,
      "outputs": [
        {
          "output_type": "stream",
          "text": [
            "/usr/local/lib/python3.6/dist-packages/seaborn/distributions.py:2551: FutureWarning: `distplot` is a deprecated function and will be removed in a future version. Please adapt your code to use either `displot` (a figure-level function with similar flexibility) or `histplot` (an axes-level function for histograms).\n",
            "  warnings.warn(msg, FutureWarning)\n"
          ],
          "name": "stderr"
        },
        {
          "output_type": "execute_result",
          "data": {
            "text/plain": [
              "Text(0.5, 0, 'Token count')"
            ]
          },
          "metadata": {
            "tags": []
          },
          "execution_count": 13
        },
        {
          "output_type": "display_data",
          "data": {
            "image/png": "[encoded data removed]",
            "text/plain": [
              "<Figure size 432x288 with 1 Axes>"
            ]
          },
          "metadata": {
            "tags": [],
            "needs_background": "light"
          }
        }
      ]
    },
    {
      "cell_type": "code",
      "metadata": {
        "id": "ZH946ztUGHlq",
        "outputId": "39ee8d0a-add1-416b-9e9b-c0531933170b",
        "colab": {
          "base_uri": "https://localhost:8080/"
        }
      },
      "source": [
        "np.mean(np.array(token_lens)==512)\n",
        "#30% length >=512"
      ],
      "execution_count": null,
      "outputs": [
        {
          "output_type": "execute_result",
          "data": {
            "text/plain": [
              "0.28143105446118194"
            ]
          },
          "metadata": {
            "tags": []
          },
          "execution_count": 18
        }
      ]
    },
    {
      "cell_type": "code",
      "metadata": {
        "id": "9nr3I3N2nJQN",
        "outputId": "65c64274-692f-422e-8907-2124d3967bc2",
        "colab": {
          "base_uri": "https://localhost:8080/",
          "height": 122
        }
      },
      "source": [
        "for i in range(5):\n",
        "  print(data.comment_nourl[i])"
      ],
      "execution_count": null,
      "outputs": [
        {
          "output_type": "stream",
          "text": [
            "My first book by Kristin Harmel was charming, complex, well-researched, and nostalgic. Emily Emerson receives a painting from Germany, and in doing so, uncovers an enormous secret about her family. There were times when I had to suspend disbelief a little regarding the romance between Emily's grandparents, and I definitely could; but overall, it made the book \"feel\" more like a dramatic romance with a great historical backdrop, rather than meatier historical fiction. Written in two timelines, the present day, and around WWII (involving the POW internment camps in Florida), When We Meet Again was a compelling read about families, forgiveness, and finding peace with the past.\n",
            "After reading some of Kristin Harmel's previous novels and loving them, I knew I had to get my hands on this one too. Kristin has proven herself once again to be a skilled storyteller. When We Meet Again reminded me of The Sweetness of Forgetting, but there are some differences, as well. Both are about women who are in a rut in their own lives, searching for answers about their grandparents' lives. The historical aspects of both stories was around World War II. While \"Sweetness\" started in France, this story started in Germany. Also, both women looked like their grandmothers. In When We Meet Again, we get the male perspective from the past, which I thought was interesting.If I had more time, I would have devoured this book in one sitting. The mystery of who Emily's grandfather really was, and how she would even be able to find him, carried the story from beginning to end. We got glimpses of what life was like for her grandfather, as well. (Let's just say, the circumstances were heartbreaking.) Emily also had her own issues, such as dealing with the aftermath of her father's abandonment and the sacrifice she made for the two loves of her life. Kristin has delivered another winner and I hope everyone gets a chance to pick up this haunting story of redemption.Hollywood casting:Emily: Elisabeth MossVictor (Emily's father): Richard JenkinsMargaret (1940s): Sarah BolgerPeter (1940s): Billy Magnussen\n",
            "I really don't know where to begin and I am not the best at writing long reviews. I think I will stick to explaining my reaction to the book. I won this book and was so excited to read it. I did not expect to love both the writing and the story as much as I did. The author, Kristin Harmel, is new to me but I loved this book so much that I will probably read other books by her in the near future. Additionally, this book was perfect for me because in addition to the wonderful story, it includes art, Atlanta (where I live) and a trip to Europe. A few of my favorite things! The story takes place during WWII and modern day. We flip amongst the stories with baited breath trying to figure out what happened to Peter Dahler. The story filled me with angst as many of the characters in the book are afraid of love, betrayal, desertion and acted accordingly. However, it also warned my heart. The biggest takeaways from the book are to tell people how you feel sooner rather than later, always try to make things right, and to not give up on true love.Bottom line - when you find yourself reading a book while brushing your teeth, sitting at red lights, eating your lunch in your car just so you can finish a book, you know it is good. Loved it.\n",
            "I am an official reviewer for NetGalley. With that being said, I had the honor and privilege of reading When We Meet Again. I discovered Kristin Harmel last weekend, first reading The Sweetness of Forgetting and then The Life Intended. After reading When We Meet Again, I can honestly say that her style of writing is phenomenal. She keeps you asking questions the entire time. The way she weaves the stories in and out and the words, it makes for a wonderful read. I loved When We Meet Again. I love anything about WWII, but this book I could relate to on so many levels. We live once, try to live with no regrets!!!! I highly recommend if you love a good historical fiction novel, if you love a good story that has love and mystery intertwined.\n",
            "This book - This book. It hit me hard in all sorts of places. Parts of this story are so sad and gut wrenching. Emotional and unbelievable. But a story that offers hope too. The author tells us that it is never too late for family.Kristin Harmel has the magic touch with amazing stories that you just can't help but love. A craft master in creating stories so realistic you can imagine being right there too. This book made me sad and had me crying several times, so much that I didn't even want to continue reading at one point. But I knew that there has to be a good part coming and I wasn't wrong.With a story rich in American and European history, this family saga is one that you will devour. But don't forget the tissues.... And don't say I didn't warn you.\n"
          ],
          "name": "stdout"
        }
      ]
    },
    {
      "cell_type": "code",
      "metadata": {
        "id": "hfpqADT3G0Lc"
      },
      "source": [
        "#Based on literature review, keep head and tail words to make length 400"
      ],
      "execution_count": null,
      "outputs": []
    },
    {
      "cell_type": "code",
      "metadata": {
        "id": "8xsCuJcURyn5"
      },
      "source": [
        "MAX_LEN = 512"
      ],
      "execution_count": 9,
      "outputs": []
    },
    {
      "cell_type": "code",
      "metadata": {
        "id": "p7KourGhM98q"
      },
      "source": [
        "#create pytorch data generator\n",
        "\n",
        "class GPReviewDataset(Dataset):\n",
        "  def __init__(self, reviews, targets, tokenizer, max_len):\n",
        "    self.reviews = reviews\n",
        "    self.targets = targets\n",
        "    self.tokenizer = tokenizer\n",
        "    self.max_len = max_len\n",
        "  def __len__(self):\n",
        "    return len(self.reviews)\n",
        "  def __getitem__(self, item):\n",
        "    review = str(self.reviews[item])\n",
        "    target = self.targets[item]\n",
        "    encoding = self.tokenizer.encode_plus(\n",
        "      review,\n",
        "      add_special_tokens=True,\n",
        "      max_length=self.max_len,\n",
        "      return_token_type_ids=False,\n",
        "      padding='max_length',\n",
        "      return_attention_mask=True,\n",
        "      return_tensors='pt',\n",
        "      truncation=True\n",
        "    )\n",
        "    return {\n",
        "      'review_text': review,\n",
        "      'input_ids': encoding['input_ids'].flatten(),\n",
        "      'attention_mask': encoding['attention_mask'].flatten(),\n",
        "      'targets': torch.tensor(target, dtype=torch.long)\n",
        "    }"
      ],
      "execution_count": 10,
      "outputs": []
    },
    {
      "cell_type": "code",
      "metadata": {
        "id": "beyvT4qbR_dI"
      },
      "source": [
        "RANDOM_SEED = 32"
      ],
      "execution_count": 11,
      "outputs": []
    },
    {
      "cell_type": "code",
      "metadata": {
        "id": "p0UmV23rR14B"
      },
      "source": [
        "df_train, df_test = train_test_split(\n",
        "  data,\n",
        "  test_size=0.05,\n",
        "  random_state=RANDOM_SEED\n",
        ")\n",
        "\n"
      ],
      "execution_count": 12,
      "outputs": []
    },
    {
      "cell_type": "code",
      "metadata": {
        "id": "fVd3KEfJBEBd",
        "outputId": "777c92d9-4bcf-4571-c351-d2a95b3d5c0d",
        "colab": {
          "base_uri": "https://localhost:8080/"
        }
      },
      "source": [
        "df_test.rating.value_counts()"
      ],
      "execution_count": 13,
      "outputs": [
        {
          "output_type": "execute_result",
          "data": {
            "text/plain": [
              "1    1198\n",
              "0     183\n",
              "Name: rating, dtype: int64"
            ]
          },
          "metadata": {
            "tags": []
          },
          "execution_count": 13
        }
      ]
    },
    {
      "cell_type": "code",
      "metadata": {
        "id": "ayItirDUASEI",
        "outputId": "d01cbfd7-1f75-41cd-a0b9-afaef54dd16b",
        "colab": {
          "base_uri": "https://localhost:8080/"
        }
      },
      "source": [
        "#downsample training data neg:pos = 1:2\n",
        "N = np.sum(df_train.rating==0)*2\n",
        "N"
      ],
      "execution_count": 14,
      "outputs": [
        {
          "output_type": "execute_result",
          "data": {
            "text/plain": [
              "6644"
            ]
          },
          "metadata": {
            "tags": []
          },
          "execution_count": 14
        }
      ]
    },
    {
      "cell_type": "code",
      "metadata": {
        "id": "iIBenBVLBmcC"
      },
      "source": [
        "#Downsample training data  to neg: pos = 1:2\n",
        "shuffled_df = df_train.sample(frac=1,random_state=RANDOM_SEED)\n",
        "neg_df = shuffled_df.loc[shuffled_df['rating'] == 0]\n",
        "pos_df = shuffled_df.loc[shuffled_df['rating'] == 1].sample(n=N,random_state=RANDOM_SEED)\n",
        "normalized_df = pd.concat([neg_df, pos_df])\n",
        "normalized_df = normalized_df.sample(frac=1,random_state=RANDOM_SEED)\n"
      ],
      "execution_count": 15,
      "outputs": []
    },
    {
      "cell_type": "code",
      "metadata": {
        "id": "f28akIa3DLN1",
        "outputId": "f38d0e74-8f9a-4abb-a167-b595162f43a5",
        "colab": {
          "base_uri": "https://localhost:8080/"
        }
      },
      "source": [
        "normalized_df.rating.value_counts()"
      ],
      "execution_count": null,
      "outputs": [
        {
          "output_type": "execute_result",
          "data": {
            "text/plain": [
              "1    6682\n",
              "0    3341\n",
              "Name: rating, dtype: int64"
            ]
          },
          "metadata": {
            "tags": []
          },
          "execution_count": 15
        }
      ]
    },
    {
      "cell_type": "code",
      "metadata": {
        "id": "lFj4ekZ2ARNn"
      },
      "source": [
        "df_train, df_dev = train_test_split(\n",
        "  normalized_df,\n",
        "  test_size=0.2,\n",
        "  random_state=RANDOM_SEED\n",
        ")"
      ],
      "execution_count": 16,
      "outputs": []
    },
    {
      "cell_type": "code",
      "metadata": {
        "id": "S2hgyeGSSDUv",
        "outputId": "726e26d8-067b-4990-8a59-f972b057c6f5",
        "colab": {
          "base_uri": "https://localhost:8080/"
        }
      },
      "source": [
        "df_train.rating.value_counts()"
      ],
      "execution_count": 19,
      "outputs": [
        {
          "output_type": "execute_result",
          "data": {
            "text/plain": [
              "1    5319\n",
              "0    2653\n",
              "Name: rating, dtype: int64"
            ]
          },
          "metadata": {
            "tags": []
          },
          "execution_count": 19
        }
      ]
    },
    {
      "cell_type": "code",
      "metadata": {
        "id": "RZOglTMnSF7O",
        "outputId": "63f137f1-d211-4059-bca2-740243e8e5b3",
        "colab": {
          "base_uri": "https://localhost:8080/"
        }
      },
      "source": [
        "print(df_train.shape,df_dev.shape,df_test.shape)"
      ],
      "execution_count": 18,
      "outputs": [
        {
          "output_type": "stream",
          "text": [
            "(7972, 2) (1994, 2) (1381, 2)\n"
          ],
          "name": "stdout"
        }
      ]
    },
    {
      "cell_type": "code",
      "metadata": {
        "id": "HwMzGMCrSQ1f"
      },
      "source": [
        "def create_data_loader(df, tokenizer, max_len, batch_size):\n",
        "  ds = GPReviewDataset(\n",
        "    reviews=df.comment_nourl.to_numpy(),\n",
        "    targets=df.rating.to_numpy(),\n",
        "    tokenizer=tokenizer,\n",
        "    max_len=max_len\n",
        "  )\n",
        "  return DataLoader(\n",
        "    ds,\n",
        "    batch_size=batch_size,\n",
        "    num_workers=4\n",
        "  )"
      ],
      "execution_count": null,
      "outputs": []
    },
    {
      "cell_type": "code",
      "metadata": {
        "id": "AmostPImS0jm"
      },
      "source": [
        "BATCH_SIZE = 8\n",
        "train_data_loader = create_data_loader(df_train, tokenizer, MAX_LEN, BATCH_SIZE)\n",
        "val_data_loader = create_data_loader(df_dev, tokenizer, MAX_LEN, BATCH_SIZE)\n"
      ],
      "execution_count": null,
      "outputs": []
    },
    {
      "cell_type": "markdown",
      "metadata": {
        "id": "FqsnMCWUUC4Q"
      },
      "source": [
        "## Model Training"
      ]
    },
    {
      "cell_type": "code",
      "metadata": {
        "id": "H5vpKhAiTWgV"
      },
      "source": [
        "bert_model = BertModel.from_pretrained(PRE_TRAINED_MODEL_NAME)"
      ],
      "execution_count": null,
      "outputs": []
    },
    {
      "cell_type": "code",
      "metadata": {
        "id": "zfv2cqw6T9hb",
        "outputId": "8e67f12b-88c1-4488-d94b-397f38310305",
        "colab": {
          "base_uri": "https://localhost:8080/"
        }
      },
      "source": [
        "bert_model.config"
      ],
      "execution_count": null,
      "outputs": [
        {
          "output_type": "execute_result",
          "data": {
            "text/plain": [
              "BertConfig {\n",
              "  \"architectures\": [\n",
              "    \"BertForMaskedLM\"\n",
              "  ],\n",
              "  \"attention_probs_dropout_prob\": 0.1,\n",
              "  \"gradient_checkpointing\": false,\n",
              "  \"hidden_act\": \"gelu\",\n",
              "  \"hidden_dropout_prob\": 0.1,\n",
              "  \"hidden_size\": 768,\n",
              "  \"initializer_range\": 0.02,\n",
              "  \"intermediate_size\": 3072,\n",
              "  \"layer_norm_eps\": 1e-12,\n",
              "  \"max_position_embeddings\": 512,\n",
              "  \"model_type\": \"bert\",\n",
              "  \"num_attention_heads\": 12,\n",
              "  \"num_hidden_layers\": 12,\n",
              "  \"pad_token_id\": 0,\n",
              "  \"type_vocab_size\": 2,\n",
              "  \"vocab_size\": 30522\n",
              "}"
            ]
          },
          "metadata": {
            "tags": []
          },
          "execution_count": 18
        }
      ]
    },
    {
      "cell_type": "code",
      "metadata": {
        "id": "1x3owFEpUL6L"
      },
      "source": [
        "class SentimentClassifier(nn.Module):\n",
        "  def __init__(self, n_classes):\n",
        "    super(SentimentClassifier, self).__init__()\n",
        "    self.bert = BertModel.from_pretrained(PRE_TRAINED_MODEL_NAME)\n",
        "    self.drop = nn.Dropout(p=0.5)\n",
        "    self.out = nn.Linear(self.bert.config.hidden_size, n_classes)\n",
        "  def forward(self, input_ids, attention_mask):\n",
        "    _, pooled_output = self.bert(\n",
        "      input_ids=input_ids,\n",
        "      attention_mask=attention_mask\n",
        "    )\n",
        "    output = self.drop(pooled_output)\n",
        "    return self.out(output)"
      ],
      "execution_count": null,
      "outputs": []
    },
    {
      "cell_type": "code",
      "metadata": {
        "id": "Yi2r9sdOWmop"
      },
      "source": [
        "model = SentimentClassifier(2) #only neg/pos classes\n",
        "model = model.to(device)"
      ],
      "execution_count": null,
      "outputs": []
    },
    {
      "cell_type": "markdown",
      "metadata": {
        "id": "nQSOdT3TX7NW"
      },
      "source": [
        "Batch size: 16, 32\n",
        "\n",
        "Learning rate (Adam): 5e-5, 3e-5, 2e-5\n",
        "\n",
        "Number of epochs: 2, 3, 4 "
      ]
    },
    {
      "cell_type": "code",
      "metadata": {
        "id": "xKhJTnXmW9CO"
      },
      "source": [
        "EPOCHS = 10\n",
        "optimizer = AdamW(model.parameters(), lr=5e-6, correct_bias=False)\n",
        "total_steps = len(train_data_loader) * EPOCHS\n",
        "scheduler = get_linear_schedule_with_warmup(\n",
        "  optimizer,\n",
        "  num_warmup_steps=0,\n",
        "  num_training_steps=total_steps\n",
        ")\n",
        "loss_fn = nn.CrossEntropyLoss().to(device)"
      ],
      "execution_count": null,
      "outputs": []
    },
    {
      "cell_type": "code",
      "metadata": {
        "id": "LYaZh3CGXxj0"
      },
      "source": [
        "def train_epoch(\n",
        "  model,\n",
        "  data_loader,\n",
        "  loss_fn,\n",
        "  optimizer,\n",
        "  device,\n",
        "  scheduler,\n",
        "  n_examples\n",
        "):\n",
        "  model = model.train()\n",
        "  losses = []\n",
        "  correct_predictions = 0\n",
        "  for d in data_loader:\n",
        "    input_ids = d[\"input_ids\"].to(device)\n",
        "    attention_mask = d[\"attention_mask\"].to(device)\n",
        "    targets = d[\"targets\"].to(device)\n",
        "    outputs = model(\n",
        "      input_ids=input_ids,\n",
        "      attention_mask=attention_mask\n",
        "    )\n",
        "    _, preds = torch.max(outputs, dim=1)\n",
        "    loss = loss_fn(outputs, targets)\n",
        "    correct_predictions += torch.sum(preds == targets)\n",
        "    losses.append(loss.item())\n",
        "    loss.backward()\n",
        "    nn.utils.clip_grad_norm_(model.parameters(), max_norm=1.0)\n",
        "    optimizer.step()\n",
        "    scheduler.step()\n",
        "    optimizer.zero_grad()\n",
        "  return correct_predictions.double() / n_examples, np.mean(losses)"
      ],
      "execution_count": null,
      "outputs": []
    },
    {
      "cell_type": "code",
      "metadata": {
        "id": "d7DKuFsAYgDj"
      },
      "source": [
        "def eval_model(model, data_loader, loss_fn, device, n_examples):\n",
        "  model = model.eval()\n",
        "  losses = []\n",
        "  correct_predictions = 0\n",
        "  with torch.no_grad():\n",
        "    for d in data_loader:\n",
        "      input_ids = d[\"input_ids\"].to(device)\n",
        "      attention_mask = d[\"attention_mask\"].to(device)\n",
        "      targets = d[\"targets\"].to(device)\n",
        "      outputs = model(\n",
        "        input_ids=input_ids,\n",
        "        attention_mask=attention_mask\n",
        "      )\n",
        "      _, preds = torch.max(outputs, dim=1)\n",
        "      loss = loss_fn(outputs, targets)\n",
        "      correct_predictions += torch.sum(preds == targets)\n",
        "      losses.append(loss.item())\n",
        "  return correct_predictions.double() / n_examples, np.mean(losses)"
      ],
      "execution_count": null,
      "outputs": []
    },
    {
      "cell_type": "code",
      "metadata": {
        "id": "iqDq3JY7ZdSD"
      },
      "source": [
        "from collections import defaultdict\n",
        "import re"
      ],
      "execution_count": null,
      "outputs": []
    },
    {
      "cell_type": "markdown",
      "metadata": {
        "id": "D3xyCFj3bSbO"
      },
      "source": [
        "### Text lenghth > max_lenght\n",
        "Next step : https://stackoverflow.com/questions/58636587/how-to-use-bert-for-long-text-classification"
      ]
    },
    {
      "cell_type": "code",
      "metadata": {
        "id": "Owup_HvWYmEy",
        "outputId": "22d50116-f526-4221-80e7-cff5d842eaf0",
        "colab": {
          "base_uri": "https://localhost:8080/"
        }
      },
      "source": [
        "%%time\n",
        "history = defaultdict(list)\n",
        "best_accuracy = 0\n",
        "for epoch in range(EPOCHS):\n",
        "  print(f'Epoch {epoch + 1}/{EPOCHS}')\n",
        "  print('-' * 10)\n",
        "  train_acc, train_loss = train_epoch(\n",
        "    model,\n",
        "    train_data_loader,\n",
        "    loss_fn,\n",
        "    optimizer,\n",
        "    device,\n",
        "    scheduler,\n",
        "    len(df_train)\n",
        "  )\n",
        "  print(f'Train loss {train_loss} accuracy {train_acc}')\n",
        "\n",
        "  val_acc, val_loss = eval_model(\n",
        "    model,\n",
        "    val_data_loader,\n",
        "    loss_fn,\n",
        "    device,\n",
        "    len(df_dev)\n",
        "  )\n",
        "  print(f'Val   loss {val_loss} accuracy {val_acc}')\n",
        "  print()\n",
        "\n",
        "  history['train_acc'].append(train_acc)\n",
        "  history['train_loss'].append(train_loss)\n",
        "  history['val_acc'].append(val_acc)\n",
        "  history['val_loss'].append(val_loss)\n",
        "  \n",
        "  #json.dump( history, open( \"history400.json\", 'w' ) )\n",
        "\n",
        "  if val_acc > best_accuracy:\n",
        "    torch.save(model.state_dict(), 'best_model_state_512_lr5e-6.bin')\n",
        "    best_accuracy = val_acc\n",
        "\n",
        "  pd.DataFrame(history).to_csv(\"history512_lr5e-6.csv\")\n",
        "\n"
      ],
      "execution_count": null,
      "outputs": [
        {
          "output_type": "stream",
          "text": [
            "Epoch 1/10\n",
            "----------\n",
            "Train loss 0.31320505683032895 accuracy 0.8884846964375313\n",
            "Val   loss 0.20526384644769133 accuracy 0.9358074222668004\n",
            "\n",
            "Epoch 2/10\n",
            "----------\n",
            "Train loss 0.16966179768247072 accuracy 0.9581033617661816\n",
            "Val   loss 0.26855700830346907 accuracy 0.9383149448345035\n",
            "\n",
            "Epoch 3/10\n",
            "----------\n",
            "Train loss 0.10443813208549693 accuracy 0.9770446562970395\n",
            "Val   loss 0.2956658550230786 accuracy 0.9373119358074222\n",
            "\n",
            "Epoch 4/10\n",
            "----------\n",
            "Train loss 0.06933338420025732 accuracy 0.985574510787757\n",
            "Val   loss 0.3573697216338478 accuracy 0.9358074222668004\n",
            "\n",
            "Epoch 5/10\n",
            "----------\n",
            "Train loss 0.04482721203253063 accuracy 0.990592072252885\n",
            "Val   loss 0.39550568625296 accuracy 0.9358074222668004\n",
            "\n",
            "Epoch 6/10\n",
            "----------\n",
            "Train loss 0.029107936017534957 accuracy 0.994355243351731\n",
            "Val   loss 0.42318812449497634 accuracy 0.9338014042126379\n",
            "\n",
            "Epoch 7/10\n",
            "----------\n",
            "Train loss 0.022123679805344645 accuracy 0.9957350727546411\n",
            "Val   loss 0.4314207650295866 accuracy 0.9353059177532598\n",
            "\n",
            "Epoch 8/10\n",
            "----------\n",
            "Train loss 0.014101650312036093 accuracy 0.997491219267436\n",
            "Val   loss 0.4295334772655624 accuracy 0.9393179538615848\n",
            "\n",
            "Epoch 9/10\n",
            "----------\n",
            "Train loss 0.016603297017090086 accuracy 0.9967385850476668\n",
            "Val   loss 0.44036193653504596 accuracy 0.9393179538615848\n",
            "\n",
            "Epoch 10/10\n",
            "----------\n",
            "Train loss 0.009292099874998759 accuracy 0.9984947315604615\n",
            "Val   loss 0.4496578493230045 accuracy 0.936308926780341\n",
            "\n",
            "CPU times: user 56min 31s, sys: 26min 37s, total: 1h 23min 9s\n",
            "Wall time: 1h 24min 21s\n"
          ],
          "name": "stdout"
        }
      ]
    },
    {
      "cell_type": "code",
      "metadata": {
        "id": "ElzVSEwntLIn",
        "outputId": "50758d11-b959-4443-9efe-942e6dd892ac",
        "colab": {
          "base_uri": "https://localhost:8080/",
          "height": 115,
          "referenced_widgets": [
            "abce9380b2a444fbafa817cde280d6c1",
            "9053e988cedf42e4b5d132a8b861706e",
            "e7707d9c24cc4fcc964b24ac3802abba",
            "d536ae8e0fa6472aab7dff489ca73572",
            "a0b651ae5a754b549074e71ead263ee4",
            "fb26e69f3843460785564a005257e94c",
            "181df6d40bd34ab4afb95094013de246",
            "32e6cbc9c9cf4414953892d0e5e60b8e",
            "b9ccfde3c57842e7abc1e9a9d338b03f",
            "ef07aea841be48ef93117f0c7b91b14a",
            "78ba2cd536d94d178a90d6e53493d034",
            "e5955fd5e8d14d8db84363c94e03bec5",
            "22d3c370eee243de825b627bfe135c72",
            "d4530aaafd854f0ab346c15ca7b36fb7",
            "2533beed4eff4adca8684029970dee15",
            "9a93366eb4904c64b1d3e2cc516b05dc"
          ]
        }
      },
      "source": [
        "model = SentimentClassifier(2)\n",
        "model.load_state_dict(torch.load('best_model_state_400.bin'))\n",
        "model = model.to(device)"
      ],
      "execution_count": null,
      "outputs": [
        {
          "output_type": "display_data",
          "data": {
            "application/vnd.jupyter.widget-view+json": {
              "model_id": "abce9380b2a444fbafa817cde280d6c1",
              "version_minor": 0,
              "version_major": 2
            },
            "text/plain": [
              "HBox(children=(FloatProgress(value=0.0, description='Downloading', max=433.0, style=ProgressStyle(description_…"
            ]
          },
          "metadata": {
            "tags": []
          }
        },
        {
          "output_type": "stream",
          "text": [
            "\n"
          ],
          "name": "stdout"
        },
        {
          "output_type": "display_data",
          "data": {
            "application/vnd.jupyter.widget-view+json": {
              "model_id": "b9ccfde3c57842e7abc1e9a9d338b03f",
              "version_minor": 0,
              "version_major": 2
            },
            "text/plain": [
              "HBox(children=(FloatProgress(value=0.0, description='Downloading', max=440473133.0, style=ProgressStyle(descri…"
            ]
          },
          "metadata": {
            "tags": []
          }
        },
        {
          "output_type": "stream",
          "text": [
            "\n"
          ],
          "name": "stdout"
        }
      ]
    },
    {
      "cell_type": "code",
      "metadata": {
        "id": "Qwe39q2Mu4sB"
      },
      "source": [
        "history = pd.read_csv(\"history400.csv\")"
      ],
      "execution_count": null,
      "outputs": []
    },
    {
      "cell_type": "code",
      "metadata": {
        "id": "upx3kqNExHMp"
      },
      "source": [
        "def extract_value(x):\n",
        "  temp = x.str.split(\",\").str[0]\n",
        "  #print(temp)\n",
        "  temp = temp.apply(lambda x: re.findall('\\d+\\.\\d+',x)[0])\n",
        "  #print(temp)\n",
        "  temp = pd.to_numeric(temp)\n",
        "  return temp"
      ],
      "execution_count": null,
      "outputs": []
    },
    {
      "cell_type": "code",
      "metadata": {
        "id": "VSL4DvtzyGlx"
      },
      "source": [
        "history['train_acc'] = extract_value(history['train_acc'])\n",
        "history['val_acc'] = extract_value(history['val_acc'])"
      ],
      "execution_count": null,
      "outputs": []
    },
    {
      "cell_type": "code",
      "metadata": {
        "id": "TB3nEck2ZZnq",
        "outputId": "2064907e-1e40-4593-acee-bc25f9790a5b",
        "colab": {
          "base_uri": "https://localhost:8080/",
          "height": 295
        }
      },
      "source": [
        "plt.plot(history['train_acc'], label='train accuracy')\n",
        "plt.plot(history['val_acc'], label='validation accuracy')\n",
        "plt.title('Training history')\n",
        "plt.ylabel('Accuracy')\n",
        "plt.xlabel('Epoch')\n",
        "plt.legend()\n",
        "plt.ylim([0.7, 1]);"
      ],
      "execution_count": null,
      "outputs": [
        {
          "output_type": "display_data",
          "data": {
            "image/png": "[encoded data removed]",
            "text/plain": [
              "<Figure size 432x288 with 1 Axes>"
            ]
          },
          "metadata": {
            "tags": [],
            "needs_background": "light"
          }
        }
      ]
    },
    {
      "cell_type": "code",
      "metadata": {
        "id": "nDPDgDZcphLx",
        "outputId": "bc2ca392-5cb5-4159-9b0c-a0c97e7e24fd",
        "colab": {
          "base_uri": "https://localhost:8080/",
          "height": 295
        }
      },
      "source": [
        "plt.plot(history['train_loss'], label='train loss')\n",
        "plt.plot(history['val_loss'], label='validation loss')\n",
        "plt.title('Training history')\n",
        "plt.ylabel('Loss')\n",
        "plt.xlabel('Epoch')\n",
        "plt.legend()\n",
        "plt.ylim([0, 0.5]);"
      ],
      "execution_count": null,
      "outputs": [
        {
          "output_type": "display_data",
          "data": {
            "image/png": "[encoded data removed]",
            "text/plain": [
              "<Figure size 432x288 with 1 Axes>"
            ]
          },
          "metadata": {
            "tags": [],
            "needs_background": "light"
          }
        }
      ]
    },
    {
      "cell_type": "markdown",
      "metadata": {
        "id": "icNIC-fiNioV"
      },
      "source": [
        "## Testing and Prediction"
      ]
    },
    {
      "cell_type": "code",
      "metadata": {
        "id": "uVwn8Uvz4I2H"
      },
      "source": [
        "test_data_loader = create_data_loader(df_test, tokenizer, MAX_LEN, BATCH_SIZE)"
      ],
      "execution_count": null,
      "outputs": []
    },
    {
      "cell_type": "code",
      "metadata": {
        "id": "-rqktKwlNn-R"
      },
      "source": [
        "test_acc, _ = eval_model(\n",
        "  model,\n",
        "  test_data_loader,\n",
        "  loss_fn,\n",
        "  device,\n",
        "  len(df_test)\n",
        ")\n"
      ],
      "execution_count": null,
      "outputs": []
    },
    {
      "cell_type": "code",
      "metadata": {
        "id": "I6SFTqPdN3LQ",
        "outputId": "1b997fc0-f9bc-4dd8-bb56-734bac4e57cc",
        "colab": {
          "base_uri": "https://localhost:8080/"
        }
      },
      "source": [
        "test_acc.item()"
      ],
      "execution_count": null,
      "outputs": [
        {
          "output_type": "execute_result",
          "data": {
            "text/plain": [
              "0.951484431571325"
            ]
          },
          "metadata": {
            "tags": []
          },
          "execution_count": 32
        }
      ]
    },
    {
      "cell_type": "code",
      "metadata": {
        "id": "Jh9GNGhoODuK"
      },
      "source": [
        "def get_predictions(model, data_loader):\n",
        "  model = model.eval()\n",
        "  review_texts = []\n",
        "  predictions = []\n",
        "  prediction_probs = []\n",
        "  real_values = []\n",
        "  with torch.no_grad():\n",
        "    for d in data_loader:\n",
        "      texts = d[\"review_text\"]\n",
        "      input_ids = d[\"input_ids\"].to(device)\n",
        "      attention_mask = d[\"attention_mask\"].to(device)\n",
        "      targets = d[\"targets\"].to(device)\n",
        "      outputs = model(\n",
        "        input_ids=input_ids,\n",
        "        attention_mask=attention_mask\n",
        "      )\n",
        "      _, preds = torch.max(outputs, dim=1)\n",
        "      review_texts.extend(texts)\n",
        "      predictions.extend(preds)\n",
        "      prediction_probs.extend(outputs)\n",
        "      real_values.extend(targets)\n",
        "  predictions = torch.stack(predictions).cpu()\n",
        "  prediction_probs = torch.stack(prediction_probs).cpu()\n",
        "  real_values = torch.stack(real_values).cpu()\n",
        "  return review_texts, predictions, prediction_probs, real_values"
      ],
      "execution_count": null,
      "outputs": []
    },
    {
      "cell_type": "code",
      "metadata": {
        "id": "gJJOnh9UQL5z"
      },
      "source": [
        "y_review_texts, y_pred, y_pred_probs, y_test = get_predictions(\n",
        "  model,\n",
        "  test_data_loader\n",
        ")"
      ],
      "execution_count": null,
      "outputs": []
    },
    {
      "cell_type": "code",
      "metadata": {
        "id": "iZgvfFQ5QOkq",
        "outputId": "f420e28a-0cfb-4f42-f569-1db4777c1cfd",
        "colab": {
          "base_uri": "https://localhost:8080/",
          "height": 204
        }
      },
      "source": [
        "res = pd.DataFrame({'text':y_review_texts,'prediction':y_pred,'prob':y_pred_probs,'actual':y_test})\n",
        "res.head()"
      ],
      "execution_count": null,
      "outputs": [
        {
          "output_type": "execute_result",
          "data": {
            "text/html": [
              "<div>\n",
              "<style scoped>\n",
              "    .dataframe tbody tr th:only-of-type {\n",
              "        vertical-align: middle;\n",
              "    }\n",
              "\n",
              "    .dataframe tbody tr th {\n",
              "        vertical-align: top;\n",
              "    }\n",
              "\n",
              "    .dataframe thead th {\n",
              "        text-align: right;\n",
              "    }\n",
              "</style>\n",
              "<table border=\"1\" class=\"dataframe\">\n",
              "  <thead>\n",
              "    <tr style=\"text-align: right;\">\n",
              "      <th></th>\n",
              "      <th>text</th>\n",
              "      <th>prediction</th>\n",
              "      <th>prob</th>\n",
              "      <th>actual</th>\n",
              "    </tr>\n",
              "  </thead>\n",
              "  <tbody>\n",
              "    <tr>\n",
              "      <th>0</th>\n",
              "      <td>AMAZING!It has been SO LONG since I have read ...</td>\n",
              "      <td>1</td>\n",
              "      <td>(tensor(-4.5335), tensor(5.0776))</td>\n",
              "      <td>1</td>\n",
              "    </tr>\n",
              "    <tr>\n",
              "      <th>1</th>\n",
              "      <td>I have to admit that when I started this book ...</td>\n",
              "      <td>1</td>\n",
              "      <td>(tensor(-4.1604), tensor(4.5998))</td>\n",
              "      <td>1</td>\n",
              "    </tr>\n",
              "    <tr>\n",
              "      <th>2</th>\n",
              "      <td>I must admit that I didn't read the first book...</td>\n",
              "      <td>1</td>\n",
              "      <td>(tensor(-4.5483), tensor(5.0489))</td>\n",
              "      <td>1</td>\n",
              "    </tr>\n",
              "    <tr>\n",
              "      <th>3</th>\n",
              "      <td>“I think back to that sunlit dayWhen I was you...</td>\n",
              "      <td>1</td>\n",
              "      <td>(tensor(-4.5545), tensor(5.1523))</td>\n",
              "      <td>1</td>\n",
              "    </tr>\n",
              "    <tr>\n",
              "      <th>4</th>\n",
              "      <td>I’d love to chat all day about the seasons but...</td>\n",
              "      <td>1</td>\n",
              "      <td>(tensor(-4.5550), tensor(5.1075))</td>\n",
              "      <td>1</td>\n",
              "    </tr>\n",
              "  </tbody>\n",
              "</table>\n",
              "</div>"
            ],
            "text/plain": [
              "                                                text  ...  actual\n",
              "0  AMAZING!It has been SO LONG since I have read ...  ...       1\n",
              "1  I have to admit that when I started this book ...  ...       1\n",
              "2  I must admit that I didn't read the first book...  ...       1\n",
              "3  “I think back to that sunlit dayWhen I was you...  ...       1\n",
              "4  I’d love to chat all day about the seasons but...  ...       1\n",
              "\n",
              "[5 rows x 4 columns]"
            ]
          },
          "metadata": {
            "tags": []
          },
          "execution_count": 35
        }
      ]
    },
    {
      "cell_type": "code",
      "metadata": {
        "id": "XSnwYZMpYCXb"
      },
      "source": [
        "res.to_csv('result/bert_512_lr5e-6_pred.csv',index=False)"
      ],
      "execution_count": null,
      "outputs": []
    },
    {
      "cell_type": "code",
      "metadata": {
        "id": "Vj7rxsWUQ5ui",
        "outputId": "26cf0636-a098-48fb-a184-4e63fcfa14bd",
        "colab": {
          "base_uri": "https://localhost:8080/"
        }
      },
      "source": [
        "print(classification_report(y_test, y_pred, target_names=['neg','pos']))"
      ],
      "execution_count": null,
      "outputs": [
        {
          "output_type": "stream",
          "text": [
            "              precision    recall  f1-score   support\n",
            "\n",
            "         neg       0.77      0.91      0.83       183\n",
            "         pos       0.99      0.96      0.97      1198\n",
            "\n",
            "    accuracy                           0.95      1381\n",
            "   macro avg       0.88      0.93      0.90      1381\n",
            "weighted avg       0.96      0.95      0.95      1381\n",
            "\n"
          ],
          "name": "stdout"
        }
      ]
    },
    {
      "cell_type": "code",
      "metadata": {
        "id": "aXGe7e5MRIe6"
      },
      "source": [
        "#using best model to predict\n",
        "best_model = SentimentClassifier(2)\n",
        "best_model.load_state_dict(torch.load('best_model_state_400_10.bin'))\n",
        "best_model = best_model.to(device)"
      ],
      "execution_count": null,
      "outputs": []
    },
    {
      "cell_type": "code",
      "metadata": {
        "id": "8xARVomhSB2A",
        "outputId": "17d847ef-f4b0-40e8-d5de-5c19fccf5968",
        "colab": {
          "base_uri": "https://localhost:8080/"
        }
      },
      "source": [
        "test_acc_best, _ = eval_model(\n",
        "  best_model,\n",
        "  test_data_loader,\n",
        "  loss_fn,\n",
        "  device,\n",
        "  len(df_test)\n",
        ")\n",
        "test_acc_best"
      ],
      "execution_count": null,
      "outputs": [
        {
          "output_type": "execute_result",
          "data": {
            "text/plain": [
              "tensor(0.9341, device='cuda:0', dtype=torch.float64)"
            ]
          },
          "metadata": {
            "tags": []
          },
          "execution_count": 46
        }
      ]
    },
    {
      "cell_type": "code",
      "metadata": {
        "id": "gDDkOT8QSLpU"
      },
      "source": [
        "y_review_texts_best, y_pred_best, y_pred_probs_best, y_test_best = get_predictions(\n",
        "  best_model,\n",
        "  test_data_loader\n",
        ")"
      ],
      "execution_count": null,
      "outputs": []
    },
    {
      "cell_type": "code",
      "metadata": {
        "id": "w2Gxe3YmScwx",
        "outputId": "e49f6d3c-2f93-4fa5-bf56-d962c771344f",
        "colab": {
          "base_uri": "https://localhost:8080/"
        }
      },
      "source": [
        "print(classification_report(y_test_best, y_pred_best, target_names=['neg','pos']))"
      ],
      "execution_count": null,
      "outputs": [
        {
          "output_type": "stream",
          "text": [
            "              precision    recall  f1-score   support\n",
            "\n",
            "         neg       0.66      0.90      0.76       164\n",
            "         pos       0.99      0.94      0.96      1217\n",
            "\n",
            "    accuracy                           0.93      1381\n",
            "   macro avg       0.82      0.92      0.86      1381\n",
            "weighted avg       0.95      0.93      0.94      1381\n",
            "\n"
          ],
          "name": "stdout"
        }
      ]
    },
    {
      "cell_type": "code",
      "metadata": {
        "id": "_u9gLaXcSnTs"
      },
      "source": [
        "from sklearn.metrics import confusion_matrix"
      ],
      "execution_count": null,
      "outputs": []
    },
    {
      "cell_type": "code",
      "metadata": {
        "id": "A34XRSfBVlON",
        "outputId": "81278a23-f9f6-497e-84a7-8e3c574fdeda",
        "colab": {
          "base_uri": "https://localhost:8080/"
        }
      },
      "source": [
        "cf_matrix = confusion_matrix(y_test, y_pred)\n",
        "print(cf_matrix)"
      ],
      "execution_count": null,
      "outputs": [
        {
          "output_type": "stream",
          "text": [
            "[[ 166   17]\n",
            " [  50 1148]]\n"
          ],
          "name": "stdout"
        }
      ]
    },
    {
      "cell_type": "code",
      "metadata": {
        "id": "a0G_DFLsWXkd",
        "outputId": "6d8a61a3-6792-403e-9067-0dcd2752168f",
        "colab": {
          "base_uri": "https://localhost:8080/",
          "height": 282
        }
      },
      "source": [
        "import seaborn as sns\n",
        "sns.heatmap(cf_matrix,annot=True,cmap='Blues', fmt='g')\n",
        "#https://medium.com/@dtuk81/confusion-matrix-visualization-fc31e3f30fea"
      ],
      "execution_count": null,
      "outputs": [
        {
          "output_type": "execute_result",
          "data": {
            "text/plain": [
              "<matplotlib.axes._subplots.AxesSubplot at 0x7f0564317588>"
            ]
          },
          "metadata": {
            "tags": []
          },
          "execution_count": 41
        },
        {
          "output_type": "display_data",
          "data": {
            "image/png": "[encoded data removed]",
            "text/plain": [
              "<Figure size 432x288 with 2 Axes>"
            ]
          },
          "metadata": {
            "tags": [],
            "needs_background": "light"
          }
        }
      ]
    },
    {
      "cell_type": "code",
      "metadata": {
        "id": "eMK7Hb7XWfhl"
      },
      "source": [
        ""
      ],
      "execution_count": null,
      "outputs": []
    }
  ]
}