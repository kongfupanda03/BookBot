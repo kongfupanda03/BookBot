{
 "cells": [
  {
   "cell_type": "code",
   "execution_count": 1,
   "metadata": {},
   "outputs": [],
   "source": [
    "import pandas as pd"
   ]
  },
  {
   "cell_type": "code",
   "execution_count": 2,
   "metadata": {},
   "outputs": [],
   "source": [
    "def format_keywords(text):\n",
    "    keywords_formatted = text.replace(\"['\",'').replace(\"']\",'')\n",
    "    return keywords_formatted"
   ]
  },
  {
   "cell_type": "code",
   "execution_count": 3,
   "metadata": {},
   "outputs": [],
   "source": [
    "df_books = pd.read_csv(\"Topic_modeling_labeledtopics-131020.csv\")\n",
    "df_books = df_books[['BookID','BookTitle','Genre','Topic','BookAbstract','AverageRating']]\n",
    "df_books_sim = pd.read_csv(\"recommendation_result_same_genre.csv\")\n",
    "df_books_sim = df_books_sim[['BookID','Author','BookURL','PictureURL',\n",
    "                             'Top_1_id','Top_1_title','Top_2_id','Top_2_title','Top_3_id','Top_3_title','Top_4_id','Top_4_title','Top_5_id','Top_5_title',\n",
    "                             'Last_1_id','Last_1_title','Last_2_id','Last_2_title','Last_3_id','Last_3_title','Last_4_id','Last_4_title','Last_5_id','Last_5_title']]\n",
    "df_emo = pd.read_csv(\"Top2_Emotions_From_Reviews.csv\")\n",
    "df_emo = df_emo[['BookID','top1_emo','top2_emo']]\n",
    "df_keywords = pd.read_csv('key_words_extraction.csv')\n",
    "df_keywords['keywords'] = df_keywords['Reviews_keywords'].map(lambda x: format_keywords(x))\n",
    "df_keywords = df_keywords[['BookID','keywords']]"
   ]
  },
  {
   "cell_type": "code",
   "execution_count": 4,
   "metadata": {},
   "outputs": [],
   "source": [
    "combined_df_1 = pd.merge(df_books, df_emo, how='left', on=['BookID'])\n",
    "combined_df_2 = pd.merge(combined_df_1, df_books_sim, how='inner', on=['BookID']).drop_duplicates().reset_index(drop=True)\n",
    "combined_df_3 = pd.merge(combined_df_2, df_keywords, how='left', on=['BookID'])"
   ]
  },
  {
   "cell_type": "code",
   "execution_count": 5,
   "metadata": {},
   "outputs": [],
   "source": [
    "genre_topic_combo_df = combined_df_2[['Genre','Topic']].drop_duplicates().reset_index(drop=True)"
   ]
  },
  {
   "cell_type": "code",
   "execution_count": 6,
   "metadata": {},
   "outputs": [],
   "source": [
    "combined_df_3.to_csv('PLP_BookBot_Processed_Dataset.csv',index=False)\n",
    "genre_topic_combo_df.to_csv('PLP_BookBot_Genre_Topic_Combo.csv',index=False)"
   ]
  },
  {
   "cell_type": "code",
   "execution_count": null,
   "metadata": {},
   "outputs": [],
   "source": []
  }
 ],
 "metadata": {
  "kernelspec": {
   "display_name": "Python 3",
   "language": "python",
   "name": "python3"
  },
  "language_info": {
   "codemirror_mode": {
    "name": "ipython",
    "version": 3
   },
   "file_extension": ".py",
   "mimetype": "text/x-python",
   "name": "python",
   "nbconvert_exporter": "python",
   "pygments_lexer": "ipython3",
   "version": "3.7.9"
  }
 },
 "nbformat": 4,
 "nbformat_minor": 2
}
